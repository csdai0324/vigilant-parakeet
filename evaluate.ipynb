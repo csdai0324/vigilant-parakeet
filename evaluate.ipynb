{
 "cells": [
  {
   "cell_type": "code",
   "execution_count": 8,
   "metadata": {
    "ExecuteTime": {
     "end_time": "2020-05-18T08:00:03.864767Z",
     "start_time": "2020-05-18T08:00:03.857547Z"
    }
   },
   "outputs": [],
   "source": [
    "import os\n",
    "import glob\n",
    "import random\n",
    "import pathlib\n",
    "import numpy as np\n",
    "import tensorflow as tf\n",
    "import IPython.display as display\n",
    "import matplotlib.pyplot as plt\n",
    "from tqdm import tqdm\n",
    "from collections import Counter\n",
    "\n",
    "%matplotlib inline"
   ]
  },
  {
   "cell_type": "code",
   "execution_count": 9,
   "metadata": {
    "ExecuteTime": {
     "end_time": "2020-05-18T08:00:04.418086Z",
     "start_time": "2020-05-18T08:00:04.407120Z"
    }
   },
   "outputs": [
    {
     "name": "stdout",
     "output_type": "stream",
     "text": [
      "GPU Info\n",
      "    PhysicalDevice(name='/physical_device:GPU:0', device_type='GPU')\n",
      "CPU Info\n",
      "    PhysicalDevice(name='/physical_device:CPU:0', device_type='CPU')\n",
      "\n",
      "1 Physical GPUs, 1 Logical GPU\n"
     ]
    }
   ],
   "source": [
    "def test_device():\n",
    "    os.environ['TF_CPP_MIN_LOG_LEVEL'] = '2'\n",
    "    os.environ[\"CUDA_VISIBLE_DEVICES\"] = \"0\"\n",
    "    cpus = tf.config.experimental.list_physical_devices(device_type='CPU')\n",
    "    gpus = tf.config.experimental.list_physical_devices(device_type='GPU')\n",
    "    print('GPU Info')\n",
    "    for gpu in gpus:\n",
    "        print('   ', gpu)\n",
    "    print('CPU Info')\n",
    "    for cpu in cpus:\n",
    "        print('   ', cpu)\n",
    "    \n",
    "    print()\n",
    "    if gpus:\n",
    "        try:\n",
    "            tf.config.experimental.set_visible_devices(gpus[0], 'GPU')\n",
    "            tf.config.experimental.set_memory_growth(gpus[0], True)\n",
    "            logical_gpus = tf.config.experimental.list_logical_devices('GPU')\n",
    "            print(len(gpus), \"Physical GPUs,\", len(logical_gpus), \"Logical GPU\")\n",
    "        except RuntimeError as e:\n",
    "            print(e)\n",
    "        \n",
    "test_device()\n",
    "tf.keras.backend.clear_session() \n",
    "AUTOTUNE = tf.data.experimental.AUTOTUNE"
   ]
  },
  {
   "cell_type": "code",
   "execution_count": 10,
   "metadata": {
    "ExecuteTime": {
     "end_time": "2020-05-18T08:00:58.108225Z",
     "start_time": "2020-05-18T08:00:58.104330Z"
    }
   },
   "outputs": [],
   "source": [
    "def change_range(image):\n",
    "    return 2*image-1\n",
    "\n",
    "def preprocess_image(image, img_size):\n",
    "    image = tf.image.decode_png(image, channels=1)\n",
    "    image = tf.image.resize(image, [img_size, img_size])\n",
    "    image /= 255.0 \n",
    "    return change_range(image)\n",
    "\n",
    "def load_and_preprocess_image(path, img_size):\n",
    "    image = tf.io.read_file(path)\n",
    "    return preprocess_image(image, img_size)\n",
    "\n",
    "def load_and_preprocess_from_path(path, img_size):\n",
    "    return load_and_preprocess_image(path, img_size)"
   ]
  },
  {
   "cell_type": "code",
   "execution_count": 11,
   "metadata": {
    "ExecuteTime": {
     "end_time": "2020-05-18T08:00:50.464821Z",
     "start_time": "2020-05-18T08:00:50.461589Z"
    }
   },
   "outputs": [],
   "source": [
    "test_data_root_orig = '/root/aoi/test_images'\n",
    "test_csv = '/root/aoi/test.csv'\n",
    "model_path = './model/checkpoints_128_32_888_0/'\n",
    "test_image_paths = glob.glob('/'.join([test_data_root_orig, '*.png']))\n",
    "test_image_paths.sort()\n",
    "img_size = 128"
   ]
  },
  {
   "cell_type": "code",
   "execution_count": 12,
   "metadata": {
    "ExecuteTime": {
     "end_time": "2020-05-18T08:00:58.102791Z",
     "start_time": "2020-05-18T08:00:51.723387Z"
    }
   },
   "outputs": [],
   "source": [
    "model = tf.saved_model.load(model_path)"
   ]
  },
  {
   "cell_type": "code",
   "execution_count": 14,
   "metadata": {
    "ExecuteTime": {
     "end_time": "2020-05-18T08:02:33.972924Z",
     "start_time": "2020-05-18T08:01:17.517232Z"
    }
   },
   "outputs": [
    {
     "name": "stderr",
     "output_type": "stream",
     "text": [
      "100%|██████████| 10142/10142 [01:30<00:00, 112.24it/s]\n"
     ]
    }
   ],
   "source": [
    "preds = []\n",
    "for idx in tqdm(range(len(test_image_paths))):\n",
    "    path = test_image_paths[idx]\n",
    "    name = path.split('/')[-1]\n",
    "    ID = int(name.split('.png')[0].replace('test_', ''))\n",
    "    img = load_and_preprocess_from_path(path, img_size)\n",
    "    img = np.array(img).reshape(-1, img_size, img_size, 1)\n",
    "    preds.append(model(img).numpy())"
   ]
  },
  {
   "cell_type": "code",
   "execution_count": 15,
   "metadata": {
    "ExecuteTime": {
     "end_time": "2020-05-18T08:03:33.967628Z",
     "start_time": "2020-05-18T08:03:33.935481Z"
    }
   },
   "outputs": [],
   "source": [
    "if os.path.exists(test_csv):\n",
    "    os.remove(test_csv)\n",
    "with open(test_csv, 'a') as csv:\n",
    "    csv.write('ID,Label')\n",
    "    for ID, pred in enumerate(preds):\n",
    "        csv.write('\\ntest_{:05}.png,{}'.format(ID, np.argmax(pred)))"
   ]
  },
  {
   "cell_type": "code",
   "execution_count": null,
   "metadata": {},
   "outputs": [],
   "source": []
  }
 ],
 "metadata": {
  "kernelspec": {
   "display_name": "Python 3",
   "language": "python",
   "name": "python3"
  },
  "language_info": {
   "codemirror_mode": {
    "name": "ipython",
    "version": 3
   },
   "file_extension": ".py",
   "mimetype": "text/x-python",
   "name": "python",
   "nbconvert_exporter": "python",
   "pygments_lexer": "ipython3",
   "version": "3.6.9"
  }
 },
 "nbformat": 4,
 "nbformat_minor": 4
}
