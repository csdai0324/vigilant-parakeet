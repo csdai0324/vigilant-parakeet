{
 "cells": [
  {
   "cell_type": "code",
   "execution_count": 5,
   "metadata": {
    "ExecuteTime": {
     "end_time": "2020-05-20T08:36:22.325187Z",
     "start_time": "2020-05-20T08:36:22.318215Z"
    }
   },
   "outputs": [],
   "source": [
    "from __future__ import absolute_import, division, print_function, unicode_literals\n",
    "\n",
    "import os\n",
    "import random\n",
    "import time \n",
    "import PIL\n",
    "import pathlib\n",
    "import numpy as np\n",
    "import matplotlib.pyplot as plt\n",
    "import tensorflow as tf\n",
    "from PIL import Image\n",
    "\n",
    "from tensorflow.keras.callbacks import CSVLogger\n",
    "\n",
    "%matplotlib inline"
   ]
  },
  {
   "cell_type": "code",
   "execution_count": 6,
   "metadata": {
    "ExecuteTime": {
     "end_time": "2020-05-20T08:36:22.514581Z",
     "start_time": "2020-05-20T08:36:22.504201Z"
    }
   },
   "outputs": [
    {
     "name": "stdout",
     "output_type": "stream",
     "text": [
      "GPU Info\n",
      "    PhysicalDevice(name='/physical_device:GPU:0', device_type='GPU')\n",
      "CPU Info\n",
      "    PhysicalDevice(name='/physical_device:CPU:0', device_type='CPU')\n",
      "\n",
      "1 Physical GPUs, 1 Logical GPU\n"
     ]
    }
   ],
   "source": [
    "def test_device():\n",
    "    os.environ['TF_CPP_MIN_LOG_LEVEL'] = '2'\n",
    "    os.environ[\"CUDA_VISIBLE_DEVICES\"] = \"0\"\n",
    "    cpus = tf.config.experimental.list_physical_devices(device_type='CPU')\n",
    "    gpus = tf.config.experimental.list_physical_devices(device_type='GPU')\n",
    "    print('GPU Info')\n",
    "    for gpu in gpus:\n",
    "        print('   ', gpu)\n",
    "    print('CPU Info')\n",
    "    for cpu in cpus:\n",
    "        print('   ', cpu)\n",
    "    \n",
    "    print()\n",
    "    if gpus:\n",
    "        try:\n",
    "            tf.config.experimental.set_visible_devices(gpus[0], 'GPU')\n",
    "            tf.config.experimental.set_memory_growth(gpus[0], True)\n",
    "            logical_gpus = tf.config.experimental.list_logical_devices('GPU')\n",
    "            print(len(gpus), \"Physical GPUs,\", len(logical_gpus), \"Logical GPU\")\n",
    "        except RuntimeError as e:\n",
    "            print(e)\n",
    "        \n",
    "test_device()\n",
    "tf.keras.backend.clear_session() \n",
    "AUTOTUNE = tf.data.experimental.AUTOTUNE "
   ]
  },
  {
   "cell_type": "code",
   "execution_count": 20,
   "metadata": {
    "ExecuteTime": {
     "end_time": "2020-05-20T08:36:22.674346Z",
     "start_time": "2020-05-20T08:36:22.671356Z"
    }
   },
   "outputs": [],
   "source": [
    "data_root_orig = './data/sep_data/train'\n",
    "val_data_root_orig = './data/sep_data/validation'\n",
    "img_size = 128\n",
    "batch_size = 32\n",
    "epoch = 50\n",
    "channel_size = 1\n",
    "ver = 5"
   ]
  },
  {
   "cell_type": "code",
   "execution_count": 21,
   "metadata": {
    "ExecuteTime": {
     "end_time": "2020-05-20T08:36:22.863643Z",
     "start_time": "2020-05-20T08:36:22.855930Z"
    }
   },
   "outputs": [
    {
     "name": "stdout",
     "output_type": "stream",
     "text": [
      "data/sep_data/train [PosixPath('data/sep_data/train/2'), PosixPath('data/sep_data/train/0'), PosixPath('data/sep_data/train/5'), PosixPath('data/sep_data/train/3'), PosixPath('data/sep_data/train/4'), PosixPath('data/sep_data/train/1')]\n",
      "{'0': 0, '1': 1, '2': 2, '3': 3, '4': 4, '5': 5}\n",
      "data/sep_data/validation [PosixPath('data/sep_data/validation/2'), PosixPath('data/sep_data/validation/0'), PosixPath('data/sep_data/validation/5'), PosixPath('data/sep_data/validation/3'), PosixPath('data/sep_data/validation/4'), PosixPath('data/sep_data/validation/1')]\n",
      "{'0': 0, '1': 1, '2': 2, '3': 3, '4': 4, '5': 5}\n"
     ]
    }
   ],
   "source": [
    "data_root = pathlib.Path(data_root_orig)\n",
    "print(data_root, list(data_root.iterdir()))\n",
    "label_names = sorted(item.name for item in data_root.glob('*/') if item.is_dir())\n",
    "label_to_index = dict((name, index) for index, name in enumerate(label_names))\n",
    "print(label_to_index)\n",
    "\n",
    "val_data_root = pathlib.Path(val_data_root_orig)\n",
    "print(val_data_root, list(val_data_root.iterdir()))\n",
    "val_label_names = sorted(item.name for item in val_data_root.glob('*/') if item.is_dir())\n",
    "val_label_to_index = dict((name, index) for index, name in enumerate(label_names))\n",
    "print(val_label_to_index)"
   ]
  },
  {
   "cell_type": "code",
   "execution_count": 22,
   "metadata": {
    "ExecuteTime": {
     "end_time": "2020-05-20T08:36:23.721208Z",
     "start_time": "2020-05-20T08:36:23.578609Z"
    }
   },
   "outputs": [
    {
     "name": "stdout",
     "output_type": "stream",
     "text": [
      "Train image count      : 12019\n",
      "Validation image count : 513\n"
     ]
    }
   ],
   "source": [
    "all_image_paths = list(data_root.glob('*/*'))\n",
    "all_image_paths = [str(path) for path in all_image_paths]\n",
    "random.shuffle(all_image_paths)\n",
    "image_count = len(all_image_paths)\n",
    "all_image_labels = [label_to_index[pathlib.Path(path).parent.name] for path in all_image_paths]\n",
    "\n",
    "val_all_image_paths = list(val_data_root.glob('*/*'))\n",
    "val_all_image_paths = [str(path) for path in val_all_image_paths]\n",
    "val_image_count = len(val_all_image_paths)\n",
    "random.shuffle(val_all_image_paths)\n",
    "val_all_image_labels = [label_to_index[pathlib.Path(path).parent.name] for path in val_all_image_paths]\n",
    "\n",
    "print(\"Train image count      : {}\".format(image_count))\n",
    "print(\"Validation image count : {}\".format(val_image_count))"
   ]
  },
  {
   "cell_type": "code",
   "execution_count": 23,
   "metadata": {
    "ExecuteTime": {
     "end_time": "2020-05-20T08:36:24.406996Z",
     "start_time": "2020-05-20T08:36:24.402111Z"
    }
   },
   "outputs": [],
   "source": [
    "def preprocess_image(image):\n",
    "    image = tf.image.decode_jpeg(image, channels=1)\n",
    "    image = tf.image.resize(image, [img_size, img_size])\n",
    "    return tf.keras.applications.resnet_v2.preprocess_input(image)\n",
    "\n",
    "def load_and_preprocess_image(path):\n",
    "    image = tf.io.read_file(path)\n",
    "    return preprocess_image(image)\n",
    "\n",
    "def load_and_preprocess_from_path_label(path, label):\n",
    "    return load_and_preprocess_image(path), tf.one_hot(label, depth=6)"
   ]
  },
  {
   "cell_type": "code",
   "execution_count": 24,
   "metadata": {
    "ExecuteTime": {
     "end_time": "2020-05-20T08:36:43.546342Z",
     "start_time": "2020-05-20T08:36:43.329292Z"
    }
   },
   "outputs": [],
   "source": [
    "ds = tf.data.Dataset.from_tensor_slices((all_image_paths, all_image_labels))\n",
    "image_label_ds = ds.map(load_and_preprocess_from_path_label)\n",
    "val_ds = tf.data.Dataset.from_tensor_slices((val_all_image_paths, val_all_image_labels))\n",
    "val_image_label_ds = val_ds.map(load_and_preprocess_from_path_label)\n",
    "\n",
    "steps_per_epoch = int(image_count / batch_size)\n",
    "val_steps_per_epoch = int(val_image_count / batch_size)"
   ]
  },
  {
   "cell_type": "code",
   "execution_count": 25,
   "metadata": {
    "ExecuteTime": {
     "end_time": "2020-05-20T08:36:44.024616Z",
     "start_time": "2020-05-20T08:36:44.017937Z"
    }
   },
   "outputs": [],
   "source": [
    "default_timeit_steps = 2*steps_per_epoch+1\n",
    "\n",
    "def timeit(ds, steps=default_timeit_steps):\n",
    "    overall_start = time.time()\n",
    "    it = iter(ds.take(steps+1))\n",
    "    next(it)\n",
    "\n",
    "    start = time.time()\n",
    "    for i,(images,labels) in enumerate(it):\n",
    "        if i%10 == 0:\n",
    "            print('.',end='')\n",
    "            \n",
    "    end = time.time()\n",
    "\n",
    "    duration = end-start\n",
    "    print(\"{} batches: {} s\".format(steps, duration))\n",
    "    print(\"{:0.5f} Images/s\".format(batch_size*steps/duration))\n",
    "    print(\"Total time: {}s\".format(end-overall_start))"
   ]
  },
  {
   "cell_type": "code",
   "execution_count": 26,
   "metadata": {
    "ExecuteTime": {
     "end_time": "2020-05-20T08:37:20.678656Z",
     "start_time": "2020-05-20T08:36:44.841478Z"
    }
   },
   "outputs": [
    {
     "name": "stdout",
     "output_type": "stream",
     "text": [
      "............................................................................751 batches: 0.21186041831970215 s\n",
      "113433.17544 Images/s\n",
      "Total time: 33.46904540061951s\n"
     ]
    }
   ],
   "source": [
    "ds = image_label_ds.cache()\n",
    "ds = ds.shuffle(buffer_size=image_count)\n",
    "ds = ds.repeat()\n",
    "ds = ds.batch(batch_size).prefetch(buffer_size=AUTOTUNE)\n",
    "timeit(ds)"
   ]
  },
  {
   "cell_type": "code",
   "execution_count": 27,
   "metadata": {
    "ExecuteTime": {
     "end_time": "2020-05-20T08:37:21.932981Z",
     "start_time": "2020-05-20T08:37:20.680080Z"
    }
   },
   "outputs": [
    {
     "name": "stdout",
     "output_type": "stream",
     "text": [
      "..33 batches: 1.2199201583862305 s\n",
      "865.63042 Images/s\n",
      "Total time: 1.31125807762146s\n"
     ]
    }
   ],
   "source": [
    "val_ds = val_image_label_ds.cache()\n",
    "val_ds = val_ds.batch(batch_size).prefetch(buffer_size=val_image_count)\n",
    "timeit(val_ds, 2*val_steps_per_epoch+1)"
   ]
  },
  {
   "cell_type": "code",
   "execution_count": 28,
   "metadata": {
    "ExecuteTime": {
     "end_time": "2020-05-20T08:37:36.107792Z",
     "start_time": "2020-05-20T08:37:29.521516Z"
    }
   },
   "outputs": [],
   "source": [
    "tf.keras.backend.clear_session() \n",
    "mobile_net = tf.keras.applications.MobileNetV2(input_shape=(img_size, img_size, channel_size), \n",
    "                                               weights=None, include_top=False)\n",
    "mobile_net.trainable = True"
   ]
  },
  {
   "cell_type": "code",
   "execution_count": 17,
   "metadata": {
    "ExecuteTime": {
     "end_time": "2020-05-19T07:36:39.289163Z",
     "start_time": "2020-05-19T07:36:35.862927Z"
    }
   },
   "outputs": [],
   "source": [
    "model_mobile = tf.keras.Sequential([\n",
    "    mobile_net,\n",
    "    tf.keras.layers.GlobalAveragePooling2D(),\n",
    "    tf.keras.layers.Dense(6),\n",
    "])"
   ]
  },
  {
   "cell_type": "code",
   "execution_count": 33,
   "metadata": {},
   "outputs": [],
   "source": [
    "tf.keras.backend.clear_session() \n",
    "res_net = tf.keras.applications.ResNet50V2(input_shape=(img_size, img_size, channel_size), \n",
    "                                               weights=None, include_top=False)\n",
    "res_net.trainable = True"
   ]
  },
  {
   "cell_type": "code",
   "execution_count": 35,
   "metadata": {},
   "outputs": [],
   "source": [
    "model_res50 = tf.keras.Sequential([\n",
    "    res_net,\n",
    "    tf.keras.layers.GlobalAveragePooling2D(),\n",
    "    tf.keras.layers.Dense(6),\n",
    "])"
   ]
  },
  {
   "cell_type": "code",
   "execution_count": 36,
   "metadata": {
    "ExecuteTime": {
     "end_time": "2020-05-20T08:37:55.054827Z",
     "start_time": "2020-05-20T08:37:55.052298Z"
    }
   },
   "outputs": [],
   "source": [
    "path = './model/checkpoints_{}_{}_{}_{}'.format(img_size, batch_size, 888, 0)\n",
    "cp = tf.keras.callbacks.ModelCheckpoint(filepath=path,\n",
    "                                        monitor='val_loss',\n",
    "                                        verbose=0, save_best_only=True,\n",
    "                                        save_weights_only=False, mode='min', save_freq='epoch')"
   ]
  },
  {
   "cell_type": "code",
   "execution_count": null,
   "metadata": {
    "ExecuteTime": {
     "start_time": "2020-05-20T08:37:57.857Z"
    }
   },
   "outputs": [
    {
     "name": "stdout",
     "output_type": "stream",
     "text": [
      "Epoch 1/10\n",
      "375/375 [==============================] - 24s 65ms/step - loss: 4.8567e-04 - accuracy: 0.9999 - val_loss: 0.0084 - val_accuracy: 0.9961\n",
      "Epoch 2/10\n",
      "375/375 [==============================] - 24s 64ms/step - loss: 4.4463e-04 - accuracy: 1.0000 - val_loss: 0.0088 - val_accuracy: 0.9961\n",
      "Epoch 3/10\n",
      "375/375 [==============================] - 24s 64ms/step - loss: 6.4122e-04 - accuracy: 0.9999 - val_loss: 0.0086 - val_accuracy: 0.9961\n",
      "Epoch 4/10\n",
      "375/375 [==============================] - 24s 64ms/step - loss: 4.9516e-04 - accuracy: 0.9999 - val_loss: 0.0097 - val_accuracy: 0.9961\n",
      "Epoch 5/10\n",
      "375/375 [==============================] - 24s 64ms/step - loss: 5.4705e-04 - accuracy: 0.9998 - val_loss: 0.0096 - val_accuracy: 0.9961\n",
      "Epoch 6/10\n",
      " 35/375 [=>............................] - ETA: 20s - loss: 0.0030 - accuracy: 0.9991"
     ]
    }
   ],
   "source": [
    "model_ = model_res50\n",
    "model_.compile(optimizer=tf.keras.optimizers.Adam(learning_rate=0.000001),\n",
    "              loss=tf.keras.losses.CategoricalCrossentropy(from_logits=True),\n",
    "              metrics=[\"accuracy\"])\n",
    "\n",
    "history = model_.fit(ds, epochs=10, steps_per_epoch=steps_per_epoch, \n",
    "          validation_data=val_ds, validation_steps=val_steps_per_epoch,\n",
    "          callbacks=[cp])"
   ]
  },
  {
   "cell_type": "code",
   "execution_count": null,
   "metadata": {
    "ExecuteTime": {
     "start_time": "2020-05-19T06:09:23.035Z"
    }
   },
   "outputs": [],
   "source": [
    "log_ = 'log.log'\n",
    "with open(log_, 'a+') as log:\n",
    "    model_name = (path.split('/')[-1])\n",
    "    valloss = min(history.history['val_loss'])\n",
    "    idx = history.history['val_loss'].index(valloss)\n",
    "    valacc = history.history['val_accuracy'][idx]\n",
    "    log.write(\"{}, {}, {}\\n\".format(model_name, valloss, valacc))"
   ]
  },
  {
   "cell_type": "code",
   "execution_count": null,
   "metadata": {},
   "outputs": [],
   "source": []
  }
 ],
 "metadata": {
  "kernelspec": {
   "display_name": "Python 3",
   "language": "python",
   "name": "python3"
  },
  "language_info": {
   "codemirror_mode": {
    "name": "ipython",
    "version": 3
   },
   "file_extension": ".py",
   "mimetype": "text/x-python",
   "name": "python",
   "nbconvert_exporter": "python",
   "pygments_lexer": "ipython3",
   "version": "3.6.9"
  }
 },
 "nbformat": 4,
 "nbformat_minor": 4
}
