{
 "cells": [
  {
   "cell_type": "code",
   "execution_count": 60,
   "metadata": {
    "ExecuteTime": {
     "end_time": "2020-05-18T08:49:24.137420Z",
     "start_time": "2020-05-18T08:49:24.130793Z"
    }
   },
   "outputs": [],
   "source": [
    "from __future__ import absolute_import, division, print_function, unicode_literals\n",
    "\n",
    "import os\n",
    "import random\n",
    "import time \n",
    "import PIL\n",
    "import pathlib\n",
    "import numpy as np\n",
    "import matplotlib.pyplot as plt\n",
    "import tensorflow as tf\n",
    "from PIL import Image\n",
    "\n",
    "from tensorflow.keras.callbacks import CSVLogger\n",
    "\n",
    "%matplotlib inline"
   ]
  },
  {
   "cell_type": "code",
   "execution_count": 61,
   "metadata": {
    "ExecuteTime": {
     "end_time": "2020-05-18T08:49:24.322824Z",
     "start_time": "2020-05-18T08:49:24.312555Z"
    }
   },
   "outputs": [
    {
     "name": "stdout",
     "output_type": "stream",
     "text": [
      "GPU Info\n",
      "    PhysicalDevice(name='/physical_device:GPU:0', device_type='GPU')\n",
      "CPU Info\n",
      "    PhysicalDevice(name='/physical_device:CPU:0', device_type='CPU')\n",
      "\n",
      "1 Physical GPUs, 1 Logical GPU\n"
     ]
    }
   ],
   "source": [
    "def test_device():\n",
    "    os.environ['TF_CPP_MIN_LOG_LEVEL'] = '2'\n",
    "    os.environ[\"CUDA_VISIBLE_DEVICES\"] = \"0\"\n",
    "    cpus = tf.config.experimental.list_physical_devices(device_type='CPU')\n",
    "    gpus = tf.config.experimental.list_physical_devices(device_type='GPU')\n",
    "    print('GPU Info')\n",
    "    for gpu in gpus:\n",
    "        print('   ', gpu)\n",
    "    print('CPU Info')\n",
    "    for cpu in cpus:\n",
    "        print('   ', cpu)\n",
    "    \n",
    "    print()\n",
    "    if gpus:\n",
    "        try:\n",
    "            tf.config.experimental.set_visible_devices(gpus[0], 'GPU')\n",
    "            tf.config.experimental.set_memory_growth(gpus[0], True)\n",
    "            logical_gpus = tf.config.experimental.list_logical_devices('GPU')\n",
    "            print(len(gpus), \"Physical GPUs,\", len(logical_gpus), \"Logical GPU\")\n",
    "        except RuntimeError as e:\n",
    "            print(e)\n",
    "        \n",
    "test_device()\n",
    "tf.keras.backend.clear_session() \n",
    "AUTOTUNE = tf.data.experimental.AUTOTUNE "
   ]
  },
  {
   "cell_type": "code",
   "execution_count": 62,
   "metadata": {
    "ExecuteTime": {
     "end_time": "2020-05-18T08:49:24.491827Z",
     "start_time": "2020-05-18T08:49:24.488789Z"
    }
   },
   "outputs": [],
   "source": [
    "data_root_orig = './data/sep_data/train'\n",
    "val_data_root_orig = './data/sep_data/validation'\n",
    "img_size = 224\n",
    "batch_size = 32\n",
    "epoch = 50\n",
    "channel_size = 1\n",
    "ver = 5"
   ]
  },
  {
   "cell_type": "code",
   "execution_count": 63,
   "metadata": {
    "ExecuteTime": {
     "end_time": "2020-05-18T08:49:24.663413Z",
     "start_time": "2020-05-18T08:49:24.655336Z"
    }
   },
   "outputs": [
    {
     "name": "stdout",
     "output_type": "stream",
     "text": [
      "data/sep_data/train [PosixPath('data/sep_data/train/2'), PosixPath('data/sep_data/train/0'), PosixPath('data/sep_data/train/5'), PosixPath('data/sep_data/train/3'), PosixPath('data/sep_data/train/4'), PosixPath('data/sep_data/train/1')]\n",
      "{'0': 0, '1': 1, '2': 2, '3': 3, '4': 4, '5': 5}\n",
      "data/sep_data/validation [PosixPath('data/sep_data/validation/2'), PosixPath('data/sep_data/validation/0'), PosixPath('data/sep_data/validation/5'), PosixPath('data/sep_data/validation/3'), PosixPath('data/sep_data/validation/4'), PosixPath('data/sep_data/validation/1')]\n",
      "{'0': 0, '1': 1, '2': 2, '3': 3, '4': 4, '5': 5}\n"
     ]
    }
   ],
   "source": [
    "data_root = pathlib.Path(data_root_orig)\n",
    "print(data_root, list(data_root.iterdir()))\n",
    "label_names = sorted(item.name for item in data_root.glob('*/') if item.is_dir())\n",
    "label_to_index = dict((name, index) for index, name in enumerate(label_names))\n",
    "print(label_to_index)\n",
    "\n",
    "val_data_root = pathlib.Path(val_data_root_orig)\n",
    "print(val_data_root, list(val_data_root.iterdir()))\n",
    "val_label_names = sorted(item.name for item in val_data_root.glob('*/') if item.is_dir())\n",
    "val_label_to_index = dict((name, index) for index, name in enumerate(label_names))\n",
    "print(val_label_to_index)"
   ]
  },
  {
   "cell_type": "code",
   "execution_count": 64,
   "metadata": {
    "ExecuteTime": {
     "end_time": "2020-05-18T08:49:24.983535Z",
     "start_time": "2020-05-18T08:49:24.848269Z"
    }
   },
   "outputs": [
    {
     "name": "stdout",
     "output_type": "stream",
     "text": [
      "Train image count      : 13950\n",
      "Validation image count : 513\n"
     ]
    }
   ],
   "source": [
    "all_image_paths = list(data_root.glob('*/*'))\n",
    "all_image_paths = [str(path) for path in all_image_paths]\n",
    "random.shuffle(all_image_paths)\n",
    "image_count = len(all_image_paths)\n",
    "all_image_labels = [label_to_index[pathlib.Path(path).parent.name] for path in all_image_paths]\n",
    "\n",
    "val_all_image_paths = list(val_data_root.glob('*/*'))\n",
    "val_all_image_paths = [str(path) for path in val_all_image_paths]\n",
    "val_image_count = len(val_all_image_paths)\n",
    "random.shuffle(val_all_image_paths)\n",
    "val_all_image_labels = [label_to_index[pathlib.Path(path).parent.name] for path in val_all_image_paths]\n",
    "\n",
    "print(\"Train image count      : {}\".format(image_count))\n",
    "print(\"Validation image count : {}\".format(val_image_count))"
   ]
  },
  {
   "cell_type": "code",
   "execution_count": 65,
   "metadata": {
    "ExecuteTime": {
     "end_time": "2020-05-18T08:49:25.662729Z",
     "start_time": "2020-05-18T08:49:25.657857Z"
    }
   },
   "outputs": [],
   "source": [
    "def preprocess_image(image):\n",
    "    image = tf.image.decode_jpeg(image, channels=1)\n",
    "    image = tf.image.resize(image, [img_size, img_size])\n",
    "    image /= 255.0 \n",
    "    return image\n",
    "\n",
    "def load_and_preprocess_image(path):\n",
    "    image = tf.io.read_file(path)\n",
    "    return preprocess_image(image)\n",
    "\n",
    "def load_and_preprocess_from_path_label(path, label):\n",
    "    return load_and_preprocess_image(path), label"
   ]
  },
  {
   "cell_type": "code",
   "execution_count": 66,
   "metadata": {
    "ExecuteTime": {
     "end_time": "2020-05-18T08:49:26.680918Z",
     "start_time": "2020-05-18T08:49:26.473138Z"
    }
   },
   "outputs": [],
   "source": [
    "ds = tf.data.Dataset.from_tensor_slices((all_image_paths, all_image_labels))\n",
    "image_label_ds = ds.map(load_and_preprocess_from_path_label)\n",
    "val_ds = tf.data.Dataset.from_tensor_slices((val_all_image_paths, val_all_image_labels))\n",
    "val_image_label_ds = val_ds.map(load_and_preprocess_from_path_label)\n",
    "\n",
    "steps_per_epoch = int(image_count / batch_size)\n",
    "val_steps_per_epoch = int(val_image_count / batch_size)"
   ]
  },
  {
   "cell_type": "code",
   "execution_count": 67,
   "metadata": {
    "ExecuteTime": {
     "end_time": "2020-05-18T08:49:27.166906Z",
     "start_time": "2020-05-18T08:49:27.160759Z"
    }
   },
   "outputs": [],
   "source": [
    " default_timeit_steps = 2*steps_per_epoch+1\n",
    "\n",
    "def timeit(ds, steps=default_timeit_steps):\n",
    "    overall_start = time.time()\n",
    "    it = iter(ds.take(steps+1))\n",
    "    next(it)\n",
    "\n",
    "    start = time.time()\n",
    "    for i,(images,labels) in enumerate(it):\n",
    "        if i%10 == 0:\n",
    "            print('.',end='')\n",
    "            \n",
    "    end = time.time()\n",
    "\n",
    "    duration = end-start\n",
    "    print(\"{} batches: {} s\".format(steps, duration))\n",
    "    print(\"{:0.5f} Images/s\".format(batch_size*steps/duration))\n",
    "    print(\"Total time: {}s\".format(end-overall_start))"
   ]
  },
  {
   "cell_type": "code",
   "execution_count": 68,
   "metadata": {
    "ExecuteTime": {
     "end_time": "2020-05-18T08:50:02.318849Z",
     "start_time": "2020-05-18T08:49:27.624951Z"
    }
   },
   "outputs": [
    {
     "name": "stdout",
     "output_type": "stream",
     "text": [
      "........................................................................................871 batches: 0.6510493755340576 s\n",
      "42810.88508 Images/s\n",
      "Total time: 34.6869912147522s\n"
     ]
    }
   ],
   "source": [
    "ds = image_label_ds.cache()\n",
    "ds = ds.shuffle(buffer_size=image_count)\n",
    "ds = ds.repeat()\n",
    "ds = ds.batch(batch_size).prefetch(buffer_size=AUTOTUNE)\n",
    "timeit(ds)"
   ]
  },
  {
   "cell_type": "code",
   "execution_count": 69,
   "metadata": {
    "ExecuteTime": {
     "end_time": "2020-05-18T08:50:03.504897Z",
     "start_time": "2020-05-18T08:50:02.321144Z"
    }
   },
   "outputs": [
    {
     "name": "stdout",
     "output_type": "stream",
     "text": [
      "..33 batches: 1.0953161716461182 s\n",
      "964.10518 Images/s\n",
      "Total time: 1.1794078350067139s\n"
     ]
    }
   ],
   "source": [
    "val_ds = val_image_label_ds.cache()\n",
    "val_ds = val_ds.batch(batch_size).prefetch(buffer_size=val_image_count)\n",
    "timeit(val_ds, 2*val_steps_per_epoch+1)"
   ]
  },
  {
   "cell_type": "code",
   "execution_count": 70,
   "metadata": {
    "ExecuteTime": {
     "end_time": "2020-05-18T08:50:07.575083Z",
     "start_time": "2020-05-18T08:50:07.520353Z"
    }
   },
   "outputs": [],
   "source": [
    "def change_range(image, label):\n",
    "    return 2*image-1, tf.one_hot(label, depth=6)\n",
    "keras_ds = ds.map(change_range)\n",
    "keras_val_ds = val_ds.map(change_range)"
   ]
  },
  {
   "cell_type": "code",
   "execution_count": 71,
   "metadata": {
    "ExecuteTime": {
     "end_time": "2020-05-18T08:50:09.143309Z",
     "start_time": "2020-05-18T08:50:07.793182Z"
    }
   },
   "outputs": [],
   "source": [
    "tf.keras.backend.clear_session() \n",
    "mobile_net = tf.keras.applications.MobileNetV2(input_shape=(img_size, img_size, channel_size), \n",
    "                                               weights=None, include_top=False)\n",
    "mobile_net.trainable = True"
   ]
  },
  {
   "cell_type": "code",
   "execution_count": 72,
   "metadata": {
    "ExecuteTime": {
     "end_time": "2020-05-18T08:50:10.033372Z",
     "start_time": "2020-05-18T08:50:09.144720Z"
    }
   },
   "outputs": [],
   "source": [
    "model_mobile = tf.keras.Sequential([\n",
    "    mobile_net,\n",
    "    tf.keras.layers.GlobalAveragePooling2D(),\n",
    "    tf.keras.layers.Dense(6)\n",
    "])"
   ]
  },
  {
   "cell_type": "code",
   "execution_count": 73,
   "metadata": {
    "ExecuteTime": {
     "end_time": "2020-05-18T08:50:13.482695Z",
     "start_time": "2020-05-18T08:50:10.034611Z"
    }
   },
   "outputs": [],
   "source": [
    "input1 = tf.keras.layers.Input(shape=(img_size, img_size, 1))\n",
    "mergedOut1 = tf.keras.layers.average([mobile_net(input1), mobile_net(input1)])\n",
    "model1 = tf.keras.models.Model(inputs=input1, outputs=mergedOut1)\n",
    "model_2_mobile = tf.keras.Sequential([\n",
    "    model1,\n",
    "    tf.keras.layers.GlobalAveragePooling2D(),\n",
    "    tf.keras.layers.Dense(6),\n",
    "])"
   ]
  },
  {
   "cell_type": "code",
   "execution_count": 74,
   "metadata": {
    "ExecuteTime": {
     "end_time": "2020-05-18T08:50:23.851525Z",
     "start_time": "2020-05-18T08:50:23.847601Z"
    }
   },
   "outputs": [],
   "source": [
    "path = './model/checkpoints_{}_{}_{}_{}'.format(img_size, batch_size, 888, 0)\n",
    "cp = tf.keras.callbacks.ModelCheckpoint(filepath=path,\n",
    "                                        monitor='val_loss',\n",
    "                                        verbose=0, save_best_only=True,\n",
    "                                        save_weights_only=False, mode='min', save_freq='epoch')"
   ]
  },
  {
   "cell_type": "code",
   "execution_count": 76,
   "metadata": {
    "ExecuteTime": {
     "end_time": "2020-05-18T09:50:06.037420Z",
     "start_time": "2020-05-18T09:20:51.597764Z"
    }
   },
   "outputs": [
    {
     "name": "stdout",
     "output_type": "stream",
     "text": [
      "Epoch 1/30\n",
      "435/435 [==============================] - 54s 125ms/step - loss: 0.1859 - accuracy: 0.9354 - val_loss: 1.3355 - val_accuracy: 0.7051\n",
      "Epoch 2/30\n",
      "435/435 [==============================] - 54s 125ms/step - loss: 0.1187 - accuracy: 0.9580 - val_loss: 2.8898 - val_accuracy: 0.5918\n",
      "Epoch 3/30\n",
      "435/435 [==============================] - 54s 125ms/step - loss: 0.0942 - accuracy: 0.9673 - val_loss: 6.6404 - val_accuracy: 0.3008\n",
      "Epoch 4/30\n",
      "435/435 [==============================] - 54s 125ms/step - loss: 0.0637 - accuracy: 0.9772 - val_loss: 2.1008 - val_accuracy: 0.7012\n",
      "Epoch 5/30\n",
      "435/435 [==============================] - 54s 124ms/step - loss: 0.0485 - accuracy: 0.9835 - val_loss: 2.3889 - val_accuracy: 0.6758\n",
      "Epoch 6/30\n",
      "435/435 [==============================] - 54s 124ms/step - loss: 0.0389 - accuracy: 0.9872 - val_loss: 1.6949 - val_accuracy: 0.6719\n",
      "Epoch 7/30\n",
      "435/435 [==============================] - 53s 122ms/step - loss: 0.0392 - accuracy: 0.9876 - val_loss: 1.9916 - val_accuracy: 0.7266\n",
      "Epoch 8/30\n",
      "435/435 [==============================] - 55s 126ms/step - loss: 0.0314 - accuracy: 0.9891 - val_loss: 0.6083 - val_accuracy: 0.8711\n",
      "Epoch 9/30\n",
      "435/435 [==============================] - 55s 125ms/step - loss: 0.0243 - accuracy: 0.9924 - val_loss: 0.4007 - val_accuracy: 0.9023\n",
      "Epoch 10/30\n",
      "435/435 [==============================] - 55s 126ms/step - loss: 0.0256 - accuracy: 0.9922 - val_loss: 0.4840 - val_accuracy: 0.8691\n",
      "Epoch 11/30\n",
      "435/435 [==============================] - 54s 125ms/step - loss: 0.0254 - accuracy: 0.9918 - val_loss: 0.4039 - val_accuracy: 0.9121\n",
      "Epoch 12/30\n",
      "435/435 [==============================] - 55s 126ms/step - loss: 0.0250 - accuracy: 0.9918 - val_loss: 0.3018 - val_accuracy: 0.9219\n",
      "Epoch 13/30\n",
      "435/435 [==============================] - 55s 126ms/step - loss: 0.0155 - accuracy: 0.9947 - val_loss: 0.9118 - val_accuracy: 0.7559\n",
      "Epoch 14/30\n",
      "435/435 [==============================] - 55s 126ms/step - loss: 0.0130 - accuracy: 0.9960 - val_loss: 0.6559 - val_accuracy: 0.8789\n",
      "Epoch 15/30\n",
      "435/435 [==============================] - ETA: 0s - loss: 0.0176 - accuracy: 0.9947INFO:tensorflow:Assets written to: ./model/checkpoints_224_32_888_0/assets\n",
      "435/435 [==============================] - 82s 188ms/step - loss: 0.0176 - accuracy: 0.9947 - val_loss: 0.2299 - val_accuracy: 0.9609\n",
      "Epoch 16/30\n",
      "435/435 [==============================] - 54s 125ms/step - loss: 0.0162 - accuracy: 0.9949 - val_loss: 0.3458 - val_accuracy: 0.9238\n",
      "Epoch 17/30\n",
      "435/435 [==============================] - 55s 125ms/step - loss: 0.0187 - accuracy: 0.9951 - val_loss: 1.0908 - val_accuracy: 0.8301\n",
      "Epoch 18/30\n",
      "435/435 [==============================] - 55s 126ms/step - loss: 0.0169 - accuracy: 0.9941 - val_loss: 0.3062 - val_accuracy: 0.9473\n",
      "Epoch 19/30\n",
      "435/435 [==============================] - ETA: 0s - loss: 0.0142 - accuracy: 0.9963INFO:tensorflow:Assets written to: ./model/checkpoints_224_32_888_0/assets\n",
      "435/435 [==============================] - 76s 174ms/step - loss: 0.0142 - accuracy: 0.9963 - val_loss: 0.1262 - val_accuracy: 0.9648\n",
      "Epoch 20/30\n",
      "435/435 [==============================] - ETA: 0s - loss: 0.0082 - accuracy: 0.9974INFO:tensorflow:Assets written to: ./model/checkpoints_224_32_888_0/assets\n",
      "435/435 [==============================] - 77s 176ms/step - loss: 0.0082 - accuracy: 0.9974 - val_loss: 0.1168 - val_accuracy: 0.9707\n",
      "Epoch 21/30\n",
      "435/435 [==============================] - ETA: 0s - loss: 0.0164 - accuracy: 0.9958INFO:tensorflow:Assets written to: ./model/checkpoints_224_32_888_0/assets\n",
      "435/435 [==============================] - 77s 176ms/step - loss: 0.0164 - accuracy: 0.9958 - val_loss: 0.1046 - val_accuracy: 0.9707\n",
      "Epoch 22/30\n",
      "435/435 [==============================] - 54s 123ms/step - loss: 0.0117 - accuracy: 0.9966 - val_loss: 0.1798 - val_accuracy: 0.9453\n",
      "Epoch 23/30\n",
      "435/435 [==============================] - 54s 125ms/step - loss: 0.0162 - accuracy: 0.9948 - val_loss: 0.1311 - val_accuracy: 0.9531\n",
      "Epoch 24/30\n",
      "435/435 [==============================] - 52s 121ms/step - loss: 0.0095 - accuracy: 0.9972 - val_loss: 0.1065 - val_accuracy: 0.9727\n",
      "Epoch 25/30\n",
      "435/435 [==============================] - 53s 122ms/step - loss: 0.0145 - accuracy: 0.9952 - val_loss: 0.1157 - val_accuracy: 0.9629\n",
      "Epoch 26/30\n",
      "435/435 [==============================] - 54s 124ms/step - loss: 0.0082 - accuracy: 0.9977 - val_loss: 0.1403 - val_accuracy: 0.9648\n",
      "Epoch 27/30\n",
      "435/435 [==============================] - ETA: 0s - loss: 0.0114 - accuracy: 0.9960INFO:tensorflow:Assets written to: ./model/checkpoints_224_32_888_0/assets\n",
      "435/435 [==============================] - 81s 187ms/step - loss: 0.0114 - accuracy: 0.9960 - val_loss: 0.0412 - val_accuracy: 0.9883\n",
      "Epoch 28/30\n",
      "435/435 [==============================] - 54s 124ms/step - loss: 0.0103 - accuracy: 0.9968 - val_loss: 0.3629 - val_accuracy: 0.9238\n",
      "Epoch 29/30\n",
      "435/435 [==============================] - 54s 125ms/step - loss: 0.0086 - accuracy: 0.9975 - val_loss: 0.1407 - val_accuracy: 0.9688\n",
      "Epoch 30/30\n",
      "435/435 [==============================] - 54s 125ms/step - loss: 0.0080 - accuracy: 0.9973 - val_loss: 0.3790 - val_accuracy: 0.9199\n"
     ]
    }
   ],
   "source": [
    "model_ = model_mobile\n",
    "model_.compile(optimizer=tf.keras.optimizers.Adam(learning_rate=0.0001),\n",
    "              loss=tf.keras.losses.CategoricalCrossentropy(from_logits=True),\n",
    "              metrics=[\"accuracy\"])\n",
    "\n",
    "history = model_.fit(keras_ds, epochs=30, steps_per_epoch=steps_per_epoch, \n",
    "          validation_data=keras_val_ds, validation_steps=val_steps_per_epoch,\n",
    "          callbacks=[cp])"
   ]
  },
  {
   "cell_type": "code",
   "execution_count": 59,
   "metadata": {
    "ExecuteTime": {
     "end_time": "2020-05-18T08:49:19.497256Z",
     "start_time": "2020-05-18T08:49:19.492511Z"
    }
   },
   "outputs": [],
   "source": [
    "log_ = 'log.log'\n",
    "with open(log_, 'a+') as log:\n",
    "    model_name = (path.split('/')[-1])\n",
    "    valloss = min(history.history['val_loss'])\n",
    "    idx = history.history['val_loss'].index(valloss)\n",
    "    valacc = history.history['val_accuracy'][idx]\n",
    "    log.write(\"{}, {}, {}\\n\".format(model_name, valloss, valacc))"
   ]
  },
  {
   "cell_type": "code",
   "execution_count": null,
   "metadata": {},
   "outputs": [],
   "source": []
  }
 ],
 "metadata": {
  "kernelspec": {
   "display_name": "Python 3",
   "language": "python",
   "name": "python3"
  },
  "language_info": {
   "codemirror_mode": {
    "name": "ipython",
    "version": 3
   },
   "file_extension": ".py",
   "mimetype": "text/x-python",
   "name": "python",
   "nbconvert_exporter": "python",
   "pygments_lexer": "ipython3",
   "version": "3.6.9"
  }
 },
 "nbformat": 4,
 "nbformat_minor": 4
}
