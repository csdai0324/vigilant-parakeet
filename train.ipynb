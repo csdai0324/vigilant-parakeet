{
 "cells": [
  {
   "cell_type": "code",
   "execution_count": 35,
   "metadata": {
    "ExecuteTime": {
     "end_time": "2020-05-18T06:33:33.292935Z",
     "start_time": "2020-05-18T06:33:33.284375Z"
    }
   },
   "outputs": [],
   "source": [
    "from __future__ import absolute_import, division, print_function, unicode_literals\n",
    "\n",
    "import os\n",
    "import random\n",
    "import time \n",
    "import PIL\n",
    "import pathlib\n",
    "import numpy as np\n",
    "import matplotlib.pyplot as plt\n",
    "import tensorflow as tf\n",
    "from PIL import Image\n",
    "\n",
    "from tensorflow.keras.callbacks import CSVLogger\n",
    "\n",
    "%matplotlib inline"
   ]
  },
  {
   "cell_type": "code",
   "execution_count": 36,
   "metadata": {
    "ExecuteTime": {
     "end_time": "2020-05-18T06:33:33.910308Z",
     "start_time": "2020-05-18T06:33:33.900069Z"
    }
   },
   "outputs": [
    {
     "name": "stdout",
     "output_type": "stream",
     "text": [
      "GPU Info\n",
      "    PhysicalDevice(name='/physical_device:GPU:0', device_type='GPU')\n",
      "CPU Info\n",
      "    PhysicalDevice(name='/physical_device:CPU:0', device_type='CPU')\n",
      "\n",
      "1 Physical GPUs, 1 Logical GPU\n"
     ]
    }
   ],
   "source": [
    "def test_device():\n",
    "    os.environ['TF_CPP_MIN_LOG_LEVEL'] = '2'\n",
    "    os.environ[\"CUDA_VISIBLE_DEVICES\"] = \"0\"\n",
    "    cpus = tf.config.experimental.list_physical_devices(device_type='CPU')\n",
    "    gpus = tf.config.experimental.list_physical_devices(device_type='GPU')\n",
    "    print('GPU Info')\n",
    "    for gpu in gpus:\n",
    "        print('   ', gpu)\n",
    "    print('CPU Info')\n",
    "    for cpu in cpus:\n",
    "        print('   ', cpu)\n",
    "    \n",
    "    print()\n",
    "    if gpus:\n",
    "        try:\n",
    "            tf.config.experimental.set_visible_devices(gpus[0], 'GPU')\n",
    "            tf.config.experimental.set_memory_growth(gpus[0], True)\n",
    "            logical_gpus = tf.config.experimental.list_logical_devices('GPU')\n",
    "            print(len(gpus), \"Physical GPUs,\", len(logical_gpus), \"Logical GPU\")\n",
    "        except RuntimeError as e:\n",
    "            print(e)\n",
    "        \n",
    "test_device()\n",
    "tf.keras.backend.clear_session() \n",
    "AUTOTUNE = tf.data.experimental.AUTOTUNE "
   ]
  },
  {
   "cell_type": "code",
   "execution_count": 37,
   "metadata": {
    "ExecuteTime": {
     "end_time": "2020-05-18T06:33:34.292616Z",
     "start_time": "2020-05-18T06:33:34.289159Z"
    }
   },
   "outputs": [],
   "source": [
    "data_root_orig = './data/sep_data/train'\n",
    "val_data_root_orig = './data/sep_data/validation'\n",
    "img_size = 224\n",
    "batch_size = 32\n",
    "epoch = 50\n",
    "channel_size = 1\n",
    "ver = 5"
   ]
  },
  {
   "cell_type": "code",
   "execution_count": 38,
   "metadata": {
    "ExecuteTime": {
     "end_time": "2020-05-18T06:33:34.698017Z",
     "start_time": "2020-05-18T06:33:34.690438Z"
    }
   },
   "outputs": [
    {
     "name": "stdout",
     "output_type": "stream",
     "text": [
      "data/sep_data/train [PosixPath('data/sep_data/train/2'), PosixPath('data/sep_data/train/0'), PosixPath('data/sep_data/train/5'), PosixPath('data/sep_data/train/3'), PosixPath('data/sep_data/train/4'), PosixPath('data/sep_data/train/1')]\n",
      "{'0': 0, '1': 1, '2': 2, '3': 3, '4': 4, '5': 5}\n",
      "data/sep_data/validation [PosixPath('data/sep_data/validation/2'), PosixPath('data/sep_data/validation/0'), PosixPath('data/sep_data/validation/5'), PosixPath('data/sep_data/validation/3'), PosixPath('data/sep_data/validation/4'), PosixPath('data/sep_data/validation/1')]\n",
      "{'0': 0, '1': 1, '2': 2, '3': 3, '4': 4, '5': 5}\n"
     ]
    }
   ],
   "source": [
    "data_root = pathlib.Path(data_root_orig)\n",
    "print(data_root, list(data_root.iterdir()))\n",
    "label_names = sorted(item.name for item in data_root.glob('*/') if item.is_dir())\n",
    "label_to_index = dict((name, index) for index, name in enumerate(label_names))\n",
    "print(label_to_index)\n",
    "\n",
    "val_data_root = pathlib.Path(val_data_root_orig)\n",
    "print(val_data_root, list(val_data_root.iterdir()))\n",
    "val_label_names = sorted(item.name for item in val_data_root.glob('*/') if item.is_dir())\n",
    "val_label_to_index = dict((name, index) for index, name in enumerate(label_names))\n",
    "print(val_label_to_index)"
   ]
  },
  {
   "cell_type": "code",
   "execution_count": 39,
   "metadata": {
    "ExecuteTime": {
     "end_time": "2020-05-18T06:33:35.226797Z",
     "start_time": "2020-05-18T06:33:35.073349Z"
    }
   },
   "outputs": [
    {
     "name": "stdout",
     "output_type": "stream",
     "text": [
      "Train image count      : 13799\n",
      "Validation image count : 484\n"
     ]
    }
   ],
   "source": [
    "all_image_paths = list(data_root.glob('*/*'))\n",
    "all_image_paths = [str(path) for path in all_image_paths]\n",
    "random.shuffle(all_image_paths)\n",
    "image_count = len(all_image_paths)\n",
    "all_image_labels = [label_to_index[pathlib.Path(path).parent.name] for path in all_image_paths]\n",
    "\n",
    "val_all_image_paths = list(val_data_root.glob('*/*'))\n",
    "val_all_image_paths = [str(path) for path in val_all_image_paths]\n",
    "val_image_count = len(val_all_image_paths)\n",
    "random.shuffle(val_all_image_paths)\n",
    "val_all_image_labels = [label_to_index[pathlib.Path(path).parent.name] for path in val_all_image_paths]\n",
    "\n",
    "print(\"Train image count      : {}\".format(image_count))\n",
    "print(\"Validation image count : {}\".format(val_image_count))"
   ]
  },
  {
   "cell_type": "code",
   "execution_count": 40,
   "metadata": {
    "ExecuteTime": {
     "end_time": "2020-05-18T06:33:35.510622Z",
     "start_time": "2020-05-18T06:33:35.505740Z"
    }
   },
   "outputs": [],
   "source": [
    "def preprocess_image(image):\n",
    "    image = tf.image.decode_jpeg(image, channels=1)\n",
    "    image = tf.image.resize(image, [img_size, img_size])\n",
    "    image /= 255.0 \n",
    "    return image\n",
    "\n",
    "def load_and_preprocess_image(path):\n",
    "    image = tf.io.read_file(path)\n",
    "    return preprocess_image(image)\n",
    "\n",
    "def load_and_preprocess_from_path_label(path, label):\n",
    "    return load_and_preprocess_image(path), label"
   ]
  },
  {
   "cell_type": "code",
   "execution_count": 41,
   "metadata": {
    "ExecuteTime": {
     "end_time": "2020-05-18T06:33:35.963906Z",
     "start_time": "2020-05-18T06:33:35.786299Z"
    }
   },
   "outputs": [],
   "source": [
    "ds = tf.data.Dataset.from_tensor_slices((all_image_paths, all_image_labels))\n",
    "image_label_ds = ds.map(load_and_preprocess_from_path_label)\n",
    "val_ds = tf.data.Dataset.from_tensor_slices((val_all_image_paths, val_all_image_labels))\n",
    "val_image_label_ds = val_ds.map(load_and_preprocess_from_path_label)\n",
    "\n",
    "steps_per_epoch = int(image_count / batch_size)\n",
    "val_steps_per_epoch = int(val_image_count / batch_size)"
   ]
  },
  {
   "cell_type": "code",
   "execution_count": 42,
   "metadata": {
    "ExecuteTime": {
     "end_time": "2020-05-18T06:33:36.082895Z",
     "start_time": "2020-05-18T06:33:36.076540Z"
    }
   },
   "outputs": [],
   "source": [
    " default_timeit_steps = 2*steps_per_epoch+1\n",
    "\n",
    "def timeit(ds, steps=default_timeit_steps):\n",
    "    overall_start = time.time()\n",
    "    it = iter(ds.take(steps+1))\n",
    "    next(it)\n",
    "\n",
    "    start = time.time()\n",
    "    for i,(images,labels) in enumerate(it):\n",
    "        if i%10 == 0:\n",
    "            print('.',end='')\n",
    "            \n",
    "    end = time.time()\n",
    "\n",
    "    duration = end-start\n",
    "    print(\"{} batches: {} s\".format(steps, duration))\n",
    "    print(\"{:0.5f} Images/s\".format(batch_size*steps/duration))\n",
    "    print(\"Total time: {}s\".format(end-overall_start))"
   ]
  },
  {
   "cell_type": "code",
   "execution_count": 43,
   "metadata": {
    "ExecuteTime": {
     "end_time": "2020-05-18T06:34:11.516389Z",
     "start_time": "2020-05-18T06:33:36.674061Z"
    }
   },
   "outputs": [
    {
     "name": "stdout",
     "output_type": "stream",
     "text": [
      ".......................................................................................863 batches: 0.6791543960571289 s\n",
      "40662.32974 Images/s\n",
      "Total time: 34.835981607437134s\n"
     ]
    }
   ],
   "source": [
    "ds = image_label_ds.cache()\n",
    "ds = ds.shuffle(buffer_size=image_count)\n",
    "ds = ds.repeat()\n",
    "ds = ds.batch(batch_size).prefetch(buffer_size=AUTOTUNE)\n",
    "timeit(ds)"
   ]
  },
  {
   "cell_type": "code",
   "execution_count": 44,
   "metadata": {
    "ExecuteTime": {
     "end_time": "2020-05-18T06:34:12.624495Z",
     "start_time": "2020-05-18T06:34:11.518210Z"
    }
   },
   "outputs": [
    {
     "name": "stdout",
     "output_type": "stream",
     "text": [
      "..31 batches: 1.0205268859863281 s\n",
      "972.04690 Images/s\n",
      "Total time: 1.1014273166656494s\n"
     ]
    }
   ],
   "source": [
    "val_ds = val_image_label_ds.cache()\n",
    "val_ds = val_ds.batch(batch_size).prefetch(buffer_size=val_image_count)\n",
    "timeit(val_ds, 2*val_steps_per_epoch+1)"
   ]
  },
  {
   "cell_type": "code",
   "execution_count": 45,
   "metadata": {
    "ExecuteTime": {
     "end_time": "2020-05-18T06:34:12.641749Z",
     "start_time": "2020-05-18T06:34:12.626550Z"
    }
   },
   "outputs": [],
   "source": [
    "def change_range(image, label):\n",
    "    return 2*image-1, tf.one_hot(label, depth=6)\n",
    "keras_ds = ds.map(change_range)\n",
    "keras_val_ds = val_ds.map(change_range)"
   ]
  },
  {
   "cell_type": "code",
   "execution_count": 46,
   "metadata": {
    "ExecuteTime": {
     "end_time": "2020-05-18T06:34:13.824124Z",
     "start_time": "2020-05-18T06:34:12.642972Z"
    }
   },
   "outputs": [],
   "source": [
    "tf.keras.backend.clear_session() \n",
    "mobile_net = tf.keras.applications.MobileNetV2(input_shape=(img_size, img_size, channel_size), \n",
    "                                               weights=None, include_top=False)\n",
    "mobile_net.trainable = True"
   ]
  },
  {
   "cell_type": "code",
   "execution_count": 47,
   "metadata": {
    "ExecuteTime": {
     "end_time": "2020-05-18T06:34:14.738313Z",
     "start_time": "2020-05-18T06:34:13.825672Z"
    }
   },
   "outputs": [],
   "source": [
    "model_mobile = tf.keras.Sequential([\n",
    "    mobile_net,\n",
    "    tf.keras.layers.GlobalAveragePooling2D(),\n",
    "    tf.keras.layers.Dense(6)\n",
    "])"
   ]
  },
  {
   "cell_type": "code",
   "execution_count": 48,
   "metadata": {
    "ExecuteTime": {
     "end_time": "2020-05-18T06:34:18.174053Z",
     "start_time": "2020-05-18T06:34:14.739367Z"
    }
   },
   "outputs": [],
   "source": [
    "input1 = tf.keras.layers.Input(shape=(img_size, img_size, 1))\n",
    "mergedOut1 = tf.keras.layers.average([mobile_net(input1), mobile_net(input1)])\n",
    "model1 = tf.keras.models.Model(inputs=input1, outputs=mergedOut1)\n",
    "model_2_mobile = tf.keras.Sequential([\n",
    "    model1,\n",
    "    tf.keras.layers.GlobalAveragePooling2D(),\n",
    "    tf.keras.layers.Dense(6),\n",
    "])"
   ]
  },
  {
   "cell_type": "code",
   "execution_count": 49,
   "metadata": {
    "ExecuteTime": {
     "end_time": "2020-05-18T06:34:18.177503Z",
     "start_time": "2020-05-18T06:34:18.175089Z"
    }
   },
   "outputs": [],
   "source": [
    "path = './model/checkpoints_{}_{}_{}_{}'.format(img_size, batch_size, 888, 0)\n",
    "cp = tf.keras.callbacks.ModelCheckpoint(filepath=path,\n",
    "                                        monitor='val_loss',\n",
    "                                        verbose=0, save_best_only=True,\n",
    "                                        save_weights_only=False, mode='min', save_freq='epoch')"
   ]
  },
  {
   "cell_type": "code",
   "execution_count": 51,
   "metadata": {
    "ExecuteTime": {
     "end_time": "2020-05-18T07:43:30.133042Z",
     "start_time": "2020-05-18T07:15:43.839464Z"
    }
   },
   "outputs": [
    {
     "name": "stdout",
     "output_type": "stream",
     "text": [
      "Epoch 1/30\n",
      "431/431 [==============================] - 52s 121ms/step - loss: 0.0580 - accuracy: 0.9851 - val_loss: 0.1140 - val_accuracy: 0.9625\n",
      "Epoch 2/30\n",
      "431/431 [==============================] - 54s 126ms/step - loss: 0.0195 - accuracy: 0.9948 - val_loss: 0.0571 - val_accuracy: 0.9833\n",
      "Epoch 3/30\n",
      "431/431 [==============================] - ETA: 0s - loss: 0.0109 - accuracy: 0.9970INFO:tensorflow:Assets written to: ./model/checkpoints_224_32_888_0/assets\n",
      "431/431 [==============================] - 74s 171ms/step - loss: 0.0109 - accuracy: 0.9970 - val_loss: 0.0316 - val_accuracy: 0.9917\n",
      "Epoch 4/30\n",
      "431/431 [==============================] - 54s 124ms/step - loss: 0.0133 - accuracy: 0.9951 - val_loss: 0.1910 - val_accuracy: 0.9479\n",
      "Epoch 5/30\n",
      "431/431 [==============================] - 53s 124ms/step - loss: 0.0091 - accuracy: 0.9967 - val_loss: 0.0487 - val_accuracy: 0.9854\n",
      "Epoch 6/30\n",
      "431/431 [==============================] - ETA: 0s - loss: 0.0100 - accuracy: 0.9968INFO:tensorflow:Assets written to: ./model/checkpoints_224_32_888_0/assets\n",
      "431/431 [==============================] - 74s 172ms/step - loss: 0.0100 - accuracy: 0.9968 - val_loss: 0.0060 - val_accuracy: 0.9979\n",
      "Epoch 7/30\n",
      "431/431 [==============================] - 54s 126ms/step - loss: 0.0068 - accuracy: 0.9981 - val_loss: 0.0564 - val_accuracy: 0.9833\n",
      "Epoch 8/30\n",
      "431/431 [==============================] - 54s 125ms/step - loss: 0.0121 - accuracy: 0.9955 - val_loss: 0.1890 - val_accuracy: 0.9583\n",
      "Epoch 9/30\n",
      "431/431 [==============================] - 54s 125ms/step - loss: 0.0142 - accuracy: 0.9957 - val_loss: 0.0953 - val_accuracy: 0.9750\n",
      "Epoch 10/30\n",
      "431/431 [==============================] - 54s 125ms/step - loss: 0.0073 - accuracy: 0.9973 - val_loss: 0.0137 - val_accuracy: 0.9958\n",
      "Epoch 11/30\n",
      "431/431 [==============================] - 54s 126ms/step - loss: 0.0028 - accuracy: 0.9993 - val_loss: 0.0241 - val_accuracy: 0.9937\n",
      "Epoch 12/30\n",
      "431/431 [==============================] - 54s 126ms/step - loss: 0.0107 - accuracy: 0.9964 - val_loss: 0.0706 - val_accuracy: 0.9875\n",
      "Epoch 13/30\n",
      "431/431 [==============================] - 54s 126ms/step - loss: 0.0048 - accuracy: 0.9984 - val_loss: 0.0306 - val_accuracy: 0.9896\n",
      "Epoch 14/30\n",
      "431/431 [==============================] - 54s 125ms/step - loss: 0.0037 - accuracy: 0.9989 - val_loss: 0.0677 - val_accuracy: 0.9833\n",
      "Epoch 15/30\n",
      "431/431 [==============================] - 54s 126ms/step - loss: 0.0088 - accuracy: 0.9971 - val_loss: 0.0628 - val_accuracy: 0.9792\n",
      "Epoch 16/30\n",
      "431/431 [==============================] - 54s 126ms/step - loss: 0.0110 - accuracy: 0.9969 - val_loss: 0.1314 - val_accuracy: 0.9708\n",
      "Epoch 17/30\n",
      "431/431 [==============================] - 54s 125ms/step - loss: 0.0040 - accuracy: 0.9987 - val_loss: 0.0621 - val_accuracy: 0.9875\n",
      "Epoch 18/30\n",
      "431/431 [==============================] - 54s 126ms/step - loss: 0.0037 - accuracy: 0.9991 - val_loss: 0.0330 - val_accuracy: 0.9937\n",
      "Epoch 19/30\n",
      "431/431 [==============================] - 54s 126ms/step - loss: 0.0114 - accuracy: 0.9966 - val_loss: 0.2851 - val_accuracy: 0.9292\n",
      "Epoch 20/30\n",
      "431/431 [==============================] - 54s 126ms/step - loss: 0.0054 - accuracy: 0.9983 - val_loss: 0.0587 - val_accuracy: 0.9854\n",
      "Epoch 21/30\n",
      "431/431 [==============================] - 54s 125ms/step - loss: 0.0036 - accuracy: 0.9986 - val_loss: 0.0784 - val_accuracy: 0.9771\n",
      "Epoch 22/30\n",
      "431/431 [==============================] - 54s 126ms/step - loss: 0.0039 - accuracy: 0.9985 - val_loss: 0.0397 - val_accuracy: 0.9896\n",
      "Epoch 23/30\n",
      "431/431 [==============================] - 54s 125ms/step - loss: 0.0018 - accuracy: 0.9994 - val_loss: 0.0497 - val_accuracy: 0.9937\n",
      "Epoch 24/30\n",
      "431/431 [==============================] - 54s 125ms/step - loss: 0.0069 - accuracy: 0.9975 - val_loss: 0.1984 - val_accuracy: 0.9604\n",
      "Epoch 25/30\n",
      "431/431 [==============================] - 54s 126ms/step - loss: 0.0082 - accuracy: 0.9972 - val_loss: 0.0358 - val_accuracy: 0.9917\n",
      "Epoch 26/30\n",
      "431/431 [==============================] - 54s 125ms/step - loss: 0.0043 - accuracy: 0.9985 - val_loss: 0.0572 - val_accuracy: 0.9875\n",
      "Epoch 27/30\n",
      "431/431 [==============================] - 54s 125ms/step - loss: 0.0049 - accuracy: 0.9985 - val_loss: 0.0841 - val_accuracy: 0.9792\n",
      "Epoch 28/30\n",
      "431/431 [==============================] - 54s 126ms/step - loss: 0.0071 - accuracy: 0.9978 - val_loss: 0.0520 - val_accuracy: 0.9896\n",
      "Epoch 29/30\n",
      "431/431 [==============================] - 54s 126ms/step - loss: 0.0037 - accuracy: 0.9988 - val_loss: 0.0419 - val_accuracy: 0.9854\n",
      "Epoch 30/30\n",
      "431/431 [==============================] - 54s 126ms/step - loss: 0.0043 - accuracy: 0.9988 - val_loss: 0.2122 - val_accuracy: 0.9646\n"
     ]
    }
   ],
   "source": [
    "model_ = model_mobile\n",
    "model_.compile(optimizer=tf.keras.optimizers.Adam(learning_rate=0.0001),\n",
    "              loss=tf.keras.losses.CategoricalCrossentropy(from_logits=True),\n",
    "              metrics=[\"accuracy\"])\n",
    "\n",
    "history = model_.fit(keras_ds, epochs=30, steps_per_epoch=steps_per_epoch, \n",
    "          validation_data=keras_val_ds, validation_steps=val_steps_per_epoch,\n",
    "          callbacks=[cp])"
   ]
  },
  {
   "cell_type": "code",
   "execution_count": 52,
   "metadata": {
    "ExecuteTime": {
     "end_time": "2020-05-18T07:43:30.139413Z",
     "start_time": "2020-05-18T07:43:30.135123Z"
    }
   },
   "outputs": [],
   "source": [
    "log_ = 'log.log'\n",
    "with open(log_, 'a+') as log:\n",
    "    model_name = (path.split('/')[-1])\n",
    "    valloss = min(history.history['val_loss'])\n",
    "    idx = history.history['val_loss'].index(valloss)\n",
    "    valacc = history.history['val_accuracy'][idx]\n",
    "    log.write(\"{}, {}, {}\\n\".format(model_name, valloss, valacc))"
   ]
  }
 ],
 "metadata": {
  "kernelspec": {
   "display_name": "Python 3",
   "language": "python",
   "name": "python3"
  },
  "language_info": {
   "codemirror_mode": {
    "name": "ipython",
    "version": 3
   },
   "file_extension": ".py",
   "mimetype": "text/x-python",
   "name": "python",
   "nbconvert_exporter": "python",
   "pygments_lexer": "ipython3",
   "version": "3.6.9"
  }
 },
 "nbformat": 4,
 "nbformat_minor": 4
}
