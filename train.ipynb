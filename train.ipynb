{
 "cells": [
  {
   "cell_type": "code",
   "execution_count": 1,
   "metadata": {
    "ExecuteTime": {
     "end_time": "2020-05-19T07:35:54.779893Z",
     "start_time": "2020-05-19T07:35:53.589885Z"
    }
   },
   "outputs": [],
   "source": [
    "from __future__ import absolute_import, division, print_function, unicode_literals\n",
    "\n",
    "import os\n",
    "import random\n",
    "import time \n",
    "import PIL\n",
    "import pathlib\n",
    "import numpy as np\n",
    "import matplotlib.pyplot as plt\n",
    "import tensorflow as tf\n",
    "from PIL import Image\n",
    "\n",
    "from tensorflow.keras.callbacks import CSVLogger\n",
    "\n",
    "%matplotlib inline"
   ]
  },
  {
   "cell_type": "code",
   "execution_count": 2,
   "metadata": {
    "ExecuteTime": {
     "end_time": "2020-05-19T07:35:54.968996Z",
     "start_time": "2020-05-19T07:35:54.781026Z"
    }
   },
   "outputs": [
    {
     "name": "stdout",
     "output_type": "stream",
     "text": [
      "GPU Info\n",
      "    PhysicalDevice(name='/physical_device:GPU:0', device_type='GPU')\n",
      "CPU Info\n",
      "    PhysicalDevice(name='/physical_device:CPU:0', device_type='CPU')\n",
      "\n",
      "1 Physical GPUs, 1 Logical GPU\n"
     ]
    }
   ],
   "source": [
    "def test_device():\n",
    "    os.environ['TF_CPP_MIN_LOG_LEVEL'] = '2'\n",
    "    os.environ[\"CUDA_VISIBLE_DEVICES\"] = \"0\"\n",
    "    cpus = tf.config.experimental.list_physical_devices(device_type='CPU')\n",
    "    gpus = tf.config.experimental.list_physical_devices(device_type='GPU')\n",
    "    print('GPU Info')\n",
    "    for gpu in gpus:\n",
    "        print('   ', gpu)\n",
    "    print('CPU Info')\n",
    "    for cpu in cpus:\n",
    "        print('   ', cpu)\n",
    "    \n",
    "    print()\n",
    "    if gpus:\n",
    "        try:\n",
    "            tf.config.experimental.set_visible_devices(gpus[0], 'GPU')\n",
    "            tf.config.experimental.set_memory_growth(gpus[0], True)\n",
    "            logical_gpus = tf.config.experimental.list_logical_devices('GPU')\n",
    "            print(len(gpus), \"Physical GPUs,\", len(logical_gpus), \"Logical GPU\")\n",
    "        except RuntimeError as e:\n",
    "            print(e)\n",
    "        \n",
    "test_device()\n",
    "tf.keras.backend.clear_session() \n",
    "AUTOTUNE = tf.data.experimental.AUTOTUNE "
   ]
  },
  {
   "cell_type": "code",
   "execution_count": 3,
   "metadata": {
    "ExecuteTime": {
     "end_time": "2020-05-19T07:35:54.973199Z",
     "start_time": "2020-05-19T07:35:54.970719Z"
    }
   },
   "outputs": [],
   "source": [
    "data_root_orig = './data/sep_data/train'\n",
    "val_data_root_orig = './data/sep_data/validation'\n",
    "img_size = 224\n",
    "batch_size = 32\n",
    "epoch = 50\n",
    "channel_size = 1\n",
    "ver = 5"
   ]
  },
  {
   "cell_type": "code",
   "execution_count": 4,
   "metadata": {
    "ExecuteTime": {
     "end_time": "2020-05-19T07:35:54.980534Z",
     "start_time": "2020-05-19T07:35:54.974667Z"
    }
   },
   "outputs": [
    {
     "name": "stdout",
     "output_type": "stream",
     "text": [
      "data/sep_data/train [PosixPath('data/sep_data/train/2'), PosixPath('data/sep_data/train/0'), PosixPath('data/sep_data/train/5'), PosixPath('data/sep_data/train/3'), PosixPath('data/sep_data/train/4'), PosixPath('data/sep_data/train/1')]\n",
      "{'0': 0, '1': 1, '2': 2, '3': 3, '4': 4, '5': 5}\n",
      "data/sep_data/validation [PosixPath('data/sep_data/validation/2'), PosixPath('data/sep_data/validation/0'), PosixPath('data/sep_data/validation/5'), PosixPath('data/sep_data/validation/3'), PosixPath('data/sep_data/validation/4'), PosixPath('data/sep_data/validation/1')]\n",
      "{'0': 0, '1': 1, '2': 2, '3': 3, '4': 4, '5': 5}\n"
     ]
    }
   ],
   "source": [
    "data_root = pathlib.Path(data_root_orig)\n",
    "print(data_root, list(data_root.iterdir()))\n",
    "label_names = sorted(item.name for item in data_root.glob('*/') if item.is_dir())\n",
    "label_to_index = dict((name, index) for index, name in enumerate(label_names))\n",
    "print(label_to_index)\n",
    "\n",
    "val_data_root = pathlib.Path(val_data_root_orig)\n",
    "print(val_data_root, list(val_data_root.iterdir()))\n",
    "val_label_names = sorted(item.name for item in val_data_root.glob('*/') if item.is_dir())\n",
    "val_label_to_index = dict((name, index) for index, name in enumerate(label_names))\n",
    "print(val_label_to_index)"
   ]
  },
  {
   "cell_type": "code",
   "execution_count": 5,
   "metadata": {
    "ExecuteTime": {
     "end_time": "2020-05-19T07:35:55.105696Z",
     "start_time": "2020-05-19T07:35:54.981421Z"
    }
   },
   "outputs": [
    {
     "name": "stdout",
     "output_type": "stream",
     "text": [
      "Train image count      : 13856\n",
      "Validation image count : 528\n"
     ]
    }
   ],
   "source": [
    "all_image_paths = list(data_root.glob('*/*'))\n",
    "all_image_paths = [str(path) for path in all_image_paths]\n",
    "random.shuffle(all_image_paths)\n",
    "image_count = len(all_image_paths)\n",
    "all_image_labels = [label_to_index[pathlib.Path(path).parent.name] for path in all_image_paths]\n",
    "\n",
    "val_all_image_paths = list(val_data_root.glob('*/*'))\n",
    "val_all_image_paths = [str(path) for path in val_all_image_paths]\n",
    "val_image_count = len(val_all_image_paths)\n",
    "random.shuffle(val_all_image_paths)\n",
    "val_all_image_labels = [label_to_index[pathlib.Path(path).parent.name] for path in val_all_image_paths]\n",
    "\n",
    "print(\"Train image count      : {}\".format(image_count))\n",
    "print(\"Validation image count : {}\".format(val_image_count))"
   ]
  },
  {
   "cell_type": "code",
   "execution_count": 6,
   "metadata": {
    "ExecuteTime": {
     "end_time": "2020-05-19T07:35:55.109406Z",
     "start_time": "2020-05-19T07:35:55.106621Z"
    }
   },
   "outputs": [],
   "source": [
    "def preprocess_image(image):\n",
    "    image = tf.image.decode_jpeg(image, channels=1)\n",
    "    image = tf.image.resize(image, [img_size, img_size])\n",
    "    image /= 255.0 \n",
    "    return image\n",
    "\n",
    "def load_and_preprocess_image(path):\n",
    "    image = tf.io.read_file(path)\n",
    "    return preprocess_image(image)\n",
    "\n",
    "def load_and_preprocess_from_path_label(path, label):\n",
    "    return load_and_preprocess_image(path), label"
   ]
  },
  {
   "cell_type": "code",
   "execution_count": 7,
   "metadata": {
    "ExecuteTime": {
     "end_time": "2020-05-19T07:35:55.318427Z",
     "start_time": "2020-05-19T07:35:55.110367Z"
    }
   },
   "outputs": [],
   "source": [
    "ds = tf.data.Dataset.from_tensor_slices((all_image_paths, all_image_labels))\n",
    "image_label_ds = ds.map(load_and_preprocess_from_path_label)\n",
    "val_ds = tf.data.Dataset.from_tensor_slices((val_all_image_paths, val_all_image_labels))\n",
    "val_image_label_ds = val_ds.map(load_and_preprocess_from_path_label)\n",
    "\n",
    "steps_per_epoch = int(image_count / batch_size)\n",
    "val_steps_per_epoch = int(val_image_count / batch_size)"
   ]
  },
  {
   "cell_type": "code",
   "execution_count": 8,
   "metadata": {
    "ExecuteTime": {
     "end_time": "2020-05-19T07:35:55.389299Z",
     "start_time": "2020-05-19T07:35:55.383242Z"
    }
   },
   "outputs": [],
   "source": [
    " default_timeit_steps = 2*steps_per_epoch+1\n",
    "\n",
    "def timeit(ds, steps=default_timeit_steps):\n",
    "    overall_start = time.time()\n",
    "    it = iter(ds.take(steps+1))\n",
    "    next(it)\n",
    "\n",
    "    start = time.time()\n",
    "    for i,(images,labels) in enumerate(it):\n",
    "        if i%10 == 0:\n",
    "            print('.',end='')\n",
    "            \n",
    "    end = time.time()\n",
    "\n",
    "    duration = end-start\n",
    "    print(\"{} batches: {} s\".format(steps, duration))\n",
    "    print(\"{:0.5f} Images/s\".format(batch_size*steps/duration))\n",
    "    print(\"Total time: {}s\".format(end-overall_start))"
   ]
  },
  {
   "cell_type": "code",
   "execution_count": 9,
   "metadata": {
    "ExecuteTime": {
     "end_time": "2020-05-19T07:36:32.017502Z",
     "start_time": "2020-05-19T07:35:55.830629Z"
    }
   },
   "outputs": [
    {
     "name": "stdout",
     "output_type": "stream",
     "text": [
      ".......................................................................................867 batches: 0.6442615985870361 s\n",
      "43063.25266 Images/s\n",
      "Total time: 36.180423974990845s\n"
     ]
    }
   ],
   "source": [
    "ds = image_label_ds.cache()\n",
    "ds = ds.shuffle(buffer_size=image_count)\n",
    "ds = ds.repeat()\n",
    "ds = ds.batch(batch_size).prefetch(buffer_size=AUTOTUNE)\n",
    "timeit(ds)"
   ]
  },
  {
   "cell_type": "code",
   "execution_count": 10,
   "metadata": {
    "ExecuteTime": {
     "end_time": "2020-05-19T07:36:33.378662Z",
     "start_time": "2020-05-19T07:36:32.020078Z"
    }
   },
   "outputs": [
    {
     "name": "stdout",
     "output_type": "stream",
     "text": [
      "..33 batches: 1.266768455505371 s\n",
      "833.61722 Images/s\n",
      "Total time: 1.3535513877868652s\n"
     ]
    }
   ],
   "source": [
    "val_ds = val_image_label_ds.cache()\n",
    "val_ds = val_ds.batch(batch_size).prefetch(buffer_size=val_image_count)\n",
    "timeit(val_ds, 2*val_steps_per_epoch+1)"
   ]
  },
  {
   "cell_type": "code",
   "execution_count": 11,
   "metadata": {
    "ExecuteTime": {
     "end_time": "2020-05-19T07:36:33.433897Z",
     "start_time": "2020-05-19T07:36:33.381300Z"
    }
   },
   "outputs": [],
   "source": [
    "def change_range(image, label):\n",
    "    return 2*image-1, tf.one_hot(label, depth=6)\n",
    "keras_ds = ds.map(change_range)\n",
    "keras_val_ds = val_ds.map(change_range)"
   ]
  },
  {
   "cell_type": "code",
   "execution_count": 12,
   "metadata": {
    "ExecuteTime": {
     "end_time": "2020-05-19T07:36:34.954395Z",
     "start_time": "2020-05-19T07:36:33.435043Z"
    }
   },
   "outputs": [],
   "source": [
    "tf.keras.backend.clear_session() \n",
    "mobile_net = tf.keras.applications.MobileNetV2(input_shape=(img_size, img_size, channel_size), \n",
    "                                               weights=None, include_top=False)\n",
    "mobile_net.trainable = True"
   ]
  },
  {
   "cell_type": "code",
   "execution_count": 13,
   "metadata": {
    "ExecuteTime": {
     "end_time": "2020-05-19T07:36:35.861876Z",
     "start_time": "2020-05-19T07:36:34.955366Z"
    }
   },
   "outputs": [],
   "source": [
    "model_mobile = tf.keras.Sequential([\n",
    "    mobile_net,\n",
    "    tf.keras.layers.GlobalAveragePooling2D(),\n",
    "    tf.keras.layers.Dense(6)\n",
    "])"
   ]
  },
  {
   "cell_type": "code",
   "execution_count": 14,
   "metadata": {
    "ExecuteTime": {
     "end_time": "2020-05-19T07:36:39.289163Z",
     "start_time": "2020-05-19T07:36:35.862927Z"
    }
   },
   "outputs": [],
   "source": [
    "input1 = tf.keras.layers.Input(shape=(img_size, img_size, 1))\n",
    "mergedOut1 = tf.keras.layers.average([mobile_net(input1), mobile_net(input1)])\n",
    "model1 = tf.keras.models.Model(inputs=input1, outputs=mergedOut1)\n",
    "model_2_mobile = tf.keras.Sequential([\n",
    "    model1,\n",
    "    tf.keras.layers.GlobalAveragePooling2D(),\n",
    "    tf.keras.layers.Dense(6),\n",
    "])"
   ]
  },
  {
   "cell_type": "code",
   "execution_count": 15,
   "metadata": {
    "ExecuteTime": {
     "end_time": "2020-05-19T07:37:50.991379Z",
     "start_time": "2020-05-19T07:37:50.986895Z"
    }
   },
   "outputs": [],
   "source": [
    "path = './model/checkpoints_{}_{}_{}_{}'.format(img_size, batch_size, 888, 0)\n",
    "cp = tf.keras.callbacks.ModelCheckpoint(filepath=path,\n",
    "                                        monitor='val_loss',\n",
    "                                        verbose=0, save_best_only=True,\n",
    "                                        save_weights_only=False, mode='min', save_freq='epoch')"
   ]
  },
  {
   "cell_type": "code",
   "execution_count": null,
   "metadata": {
    "ExecuteTime": {
     "start_time": "2020-05-19T07:37:51.473Z"
    }
   },
   "outputs": [
    {
     "name": "stdout",
     "output_type": "stream",
     "text": [
      "Epoch 1/30\n",
      "433/433 [==============================] - ETA: 0s - loss: 0.5319 - accuracy: 0.8007WARNING:tensorflow:From /usr/local/lib/python3.6/dist-packages/tensorflow/python/ops/resource_variable_ops.py:1817: calling BaseResourceVariable.__init__ (from tensorflow.python.ops.resource_variable_ops) with constraint is deprecated and will be removed in a future version.\n",
      "Instructions for updating:\n",
      "If using Keras pass *_constraint arguments to layers.\n",
      "INFO:tensorflow:Assets written to: ./model/checkpoints_224_32_888_0/assets\n",
      "433/433 [==============================] - 72s 166ms/step - loss: 0.5319 - accuracy: 0.8007 - val_loss: 3.0965 - val_accuracy: 0.2812\n",
      "Epoch 2/30\n",
      "433/433 [==============================] - 53s 123ms/step - loss: 0.1484 - accuracy: 0.9540 - val_loss: 7.0094 - val_accuracy: 0.2812\n",
      "Epoch 3/30\n",
      "433/433 [==============================] - 53s 122ms/step - loss: 0.0792 - accuracy: 0.9738 - val_loss: 12.9325 - val_accuracy: 0.2812\n",
      "Epoch 4/30\n",
      "433/433 [==============================] - 53s 124ms/step - loss: 0.0717 - accuracy: 0.9773 - val_loss: 13.5948 - val_accuracy: 0.2812\n",
      "Epoch 5/30\n",
      "433/433 [==============================] - 53s 123ms/step - loss: 0.0622 - accuracy: 0.9800 - val_loss: 16.3161 - val_accuracy: 0.2812\n",
      "Epoch 6/30\n",
      "433/433 [==============================] - 54s 124ms/step - loss: 0.0546 - accuracy: 0.9839 - val_loss: 16.9988 - val_accuracy: 0.2812\n",
      "Epoch 7/30\n",
      "433/433 [==============================] - 53s 123ms/step - loss: 0.0541 - accuracy: 0.9834 - val_loss: 18.9201 - val_accuracy: 0.2812\n",
      "Epoch 8/30\n",
      "433/433 [==============================] - 53s 123ms/step - loss: 0.0448 - accuracy: 0.9856 - val_loss: 19.0090 - val_accuracy: 0.2812\n",
      "Epoch 9/30\n",
      "433/433 [==============================] - 54s 124ms/step - loss: 0.0433 - accuracy: 0.9865 - val_loss: 15.7043 - val_accuracy: 0.2812\n",
      "Epoch 10/30\n",
      "433/433 [==============================] - 53s 122ms/step - loss: 0.0352 - accuracy: 0.9889 - val_loss: 11.8033 - val_accuracy: 0.3105\n",
      "Epoch 11/30\n",
      "433/433 [==============================] - ETA: 0s - loss: 0.0484 - accuracy: 0.9853INFO:tensorflow:Assets written to: ./model/checkpoints_224_32_888_0/assets\n",
      "433/433 [==============================] - 72s 167ms/step - loss: 0.0484 - accuracy: 0.9853 - val_loss: 0.3050 - val_accuracy: 0.9277\n",
      "Epoch 12/30\n",
      "433/433 [==============================] - 54s 124ms/step - loss: 0.0404 - accuracy: 0.9872 - val_loss: 2.9487 - val_accuracy: 0.7402\n",
      "Epoch 13/30\n",
      "433/433 [==============================] - 53s 123ms/step - loss: 0.0247 - accuracy: 0.9920 - val_loss: 2.2172 - val_accuracy: 0.7617\n",
      "Epoch 14/30\n",
      "433/433 [==============================] - 53s 122ms/step - loss: 0.0376 - accuracy: 0.9874 - val_loss: 7.7346 - val_accuracy: 0.5527\n",
      "Epoch 15/30\n",
      "433/433 [==============================] - 53s 122ms/step - loss: 0.0264 - accuracy: 0.9910 - val_loss: 22.0069 - val_accuracy: 0.3867\n",
      "Epoch 16/30\n",
      "433/433 [==============================] - 53s 123ms/step - loss: 0.0231 - accuracy: 0.9921 - val_loss: 13.8030 - val_accuracy: 0.4570\n",
      "Epoch 17/30\n",
      "433/433 [==============================] - 53s 122ms/step - loss: 0.0198 - accuracy: 0.9929 - val_loss: 11.7903 - val_accuracy: 0.4805\n",
      "Epoch 18/30\n",
      "433/433 [==============================] - 53s 123ms/step - loss: 0.0432 - accuracy: 0.9874 - val_loss: 29.5694 - val_accuracy: 0.2754\n",
      "Epoch 19/30\n",
      "433/433 [==============================] - 54s 125ms/step - loss: 0.0237 - accuracy: 0.9918 - val_loss: 8.6423 - val_accuracy: 0.5137\n",
      "Epoch 20/30\n",
      "433/433 [==============================] - 53s 123ms/step - loss: 0.0234 - accuracy: 0.9931 - val_loss: 13.4055 - val_accuracy: 0.4160\n",
      "Epoch 21/30\n",
      "433/433 [==============================] - 53s 122ms/step - loss: 0.0187 - accuracy: 0.9941 - val_loss: 10.2574 - val_accuracy: 0.4160\n",
      "Epoch 22/30\n",
      "433/433 [==============================] - 54s 124ms/step - loss: 0.0147 - accuracy: 0.9952 - val_loss: 5.7690 - val_accuracy: 0.6074\n",
      "Epoch 23/30\n",
      "433/433 [==============================] - 53s 123ms/step - loss: 0.0279 - accuracy: 0.9899 - val_loss: 13.6300 - val_accuracy: 0.4414\n",
      "Epoch 24/30\n",
      "433/433 [==============================] - 53s 123ms/step - loss: 0.0220 - accuracy: 0.9931 - val_loss: 19.7392 - val_accuracy: 0.4219\n",
      "Epoch 25/30\n",
      "433/433 [==============================] - 53s 122ms/step - loss: 0.0095 - accuracy: 0.9970 - val_loss: 2.8607 - val_accuracy: 0.6992\n",
      "Epoch 26/30\n",
      "433/433 [==============================] - 51s 118ms/step - loss: 0.0058 - accuracy: 0.9978 - val_loss: 2.2148 - val_accuracy: 0.8164\n",
      "Epoch 27/30\n",
      "102/433 [======>.......................] - ETA: 39s - loss: 0.0381 - accuracy: 0.9877"
     ]
    }
   ],
   "source": [
    "model_ = model_mobile\n",
    "model_.compile(optimizer=tf.keras.optimizers.Adam(learning_rate=0.001),\n",
    "              loss=tf.keras.losses.CategoricalCrossentropy(from_logits=True),\n",
    "              metrics=[\"accuracy\"])\n",
    "\n",
    "history = model_.fit(keras_ds, epochs=30, steps_per_epoch=steps_per_epoch, \n",
    "          validation_data=keras_val_ds, validation_steps=val_steps_per_epoch,\n",
    "          callbacks=[cp])"
   ]
  },
  {
   "cell_type": "code",
   "execution_count": null,
   "metadata": {
    "ExecuteTime": {
     "start_time": "2020-05-19T06:09:23.035Z"
    }
   },
   "outputs": [],
   "source": [
    "log_ = 'log.log'\n",
    "with open(log_, 'a+') as log:\n",
    "    model_name = (path.split('/')[-1])\n",
    "    valloss = min(history.history['val_loss'])\n",
    "    idx = history.history['val_loss'].index(valloss)\n",
    "    valacc = history.history['val_accuracy'][idx]\n",
    "    log.write(\"{}, {}, {}\\n\".format(model_name, valloss, valacc))"
   ]
  }
 ],
 "metadata": {
  "kernelspec": {
   "display_name": "Python 3",
   "language": "python",
   "name": "python3"
  },
  "language_info": {
   "codemirror_mode": {
    "name": "ipython",
    "version": 3
   },
   "file_extension": ".py",
   "mimetype": "text/x-python",
   "name": "python",
   "nbconvert_exporter": "python",
   "pygments_lexer": "ipython3",
   "version": "3.6.9"
  }
 },
 "nbformat": 4,
 "nbformat_minor": 4
}
