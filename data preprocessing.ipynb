{
 "cells": [
  {
   "cell_type": "code",
   "execution_count": 1,
   "metadata": {
    "ExecuteTime": {
     "end_time": "2020-05-19T07:28:50.682508Z",
     "start_time": "2020-05-19T07:28:50.672333Z"
    }
   },
   "outputs": [],
   "source": [
    "import os\n",
    "import random\n",
    "import glob\n",
    "import shutil\n",
    "import subprocess\n",
    "\n",
    "from PIL import Image, ImageOps\n",
    "from pyunpack import Archive"
   ]
  },
  {
   "cell_type": "code",
   "execution_count": 2,
   "metadata": {
    "ExecuteTime": {
     "end_time": "2020-05-19T07:28:51.184114Z",
     "start_time": "2020-05-19T07:28:51.180933Z"
    }
   },
   "outputs": [],
   "source": [
    "AOI_ZIP_PATH = '/root/aoi.zip'\n",
    "EXTRACT_PATH = '/root/aoi'\n",
    "\n",
    "def unzip():\n",
    "    try:\n",
    "        os.makedirs(EXTRACT_PATH)\n",
    "    except FileExistsError:\n",
    "        shutil.rmtree(EXTRACT_PATH)\n",
    "        os.mkdir(EXTRACT_PATH)\n",
    "    except:\n",
    "        pass\n",
    "    Archive(AOI_ZIP_PATH).extractall(EXTRACT_PATH)\n",
    "    for path in glob.glob(''.join([EXTRACT_PATH, '/*.zip'])):\n",
    "        Archive(path).extractall(EXTRACT_PATH)\n",
    "        os.remove(path)"
   ]
  },
  {
   "cell_type": "code",
   "execution_count": 3,
   "metadata": {},
   "outputs": [],
   "source": [
    "unzip()"
   ]
  },
  {
   "cell_type": "code",
   "execution_count": 5,
   "metadata": {
    "ExecuteTime": {
     "end_time": "2020-05-19T07:28:51.546193Z",
     "start_time": "2020-05-19T07:28:51.540999Z"
    }
   },
   "outputs": [],
   "source": [
    "RAW_DATA_PATH = '/root/aoi/train_images'\n",
    "DATA_PATH = './data/sep_data'\n",
    "TRAIN_CSV_PATH = '/root/aoi/train.csv'\n",
    "CLASS = list(map(str, range(6)))\n",
    "split_rate = 0.2\n",
    "\n",
    "def split():\n",
    "    for tv in ['train', 'validation']:\n",
    "        for idx in CLASS:\n",
    "            try:\n",
    "                os.makedirs('/'.join([DATA_PATH, tv, idx]))\n",
    "            except FileExistsError:\n",
    "                shutil.rmtree(DATA_PATH)\n",
    "                os.makedirs('/'.join([DATA_PATH, tv, idx]))\n",
    "    with open(TRAIN_CSV_PATH, 'r', newline='') as csv:\n",
    "        csv.readline()\n",
    "        for line in csv.readlines():\n",
    "            ID, label = line.strip().split(',')\n",
    "            if random.random() >= split_rate:\n",
    "                tv = 'train'\n",
    "            else:\n",
    "                tv = 'validation'\n",
    "            shutil.copy('/'.join([RAW_DATA_PATH, ID]), \n",
    "                        '/'.join([DATA_PATH, tv, label, ID]))"
   ]
  },
  {
   "cell_type": "code",
   "execution_count": 6,
   "metadata": {},
   "outputs": [],
   "source": [
    "split()"
   ]
  },
  {
   "cell_type": "code",
   "execution_count": 7,
   "metadata": {
    "ExecuteTime": {
     "end_time": "2020-05-19T07:28:51.811924Z",
     "start_time": "2020-05-19T07:28:51.807440Z"
    }
   },
   "outputs": [],
   "source": [
    "def count():\n",
    "    print(\"Image counts:\")\n",
    "    for tv in ['train', 'validation']:\n",
    "        print('   {}:'.format(tv))\n",
    "        for idx in CLASS:\n",
    "            abs_path = os.path.abspath('/'.join([DATA_PATH, tv, idx]))\n",
    "            cnt = (bytearray(subprocess.run(['tree', abs_path], \n",
    "                                           stdout=subprocess.PIPE).stdout).decode().split(' ')[-2])\n",
    "            print('{:>8}: {}'.format(idx, cnt))"
   ]
  },
  {
   "cell_type": "code",
   "execution_count": 8,
   "metadata": {},
   "outputs": [
    {
     "name": "stdout",
     "output_type": "stream",
     "text": [
      "Image counts:\n",
      "   train:\n",
      "       0: 544\n",
      "       1: 376\n",
      "       2: 73\n",
      "       3: 301\n",
      "       4: 206\n",
      "       5: 527\n",
      "   validation:\n",
      "       0: 130\n",
      "       1: 116\n",
      "       2: 27\n",
      "       3: 77\n",
      "       4: 34\n",
      "       5: 117\n"
     ]
    }
   ],
   "source": [
    "count()"
   ]
  },
  {
   "cell_type": "code",
   "execution_count": 9,
   "metadata": {
    "ExecuteTime": {
     "end_time": "2020-05-19T07:33:01.152662Z",
     "start_time": "2020-05-19T07:28:52.077174Z"
    }
   },
   "outputs": [],
   "source": [
    "def augmentation():\n",
    "    tv = 'train'\n",
    "    for idx in CLASS:\n",
    "        img_paths = glob.glob('/'.join([DATA_PATH, tv, idx, '*.png']))\n",
    "        imgs = []\n",
    "        des_paths = []\n",
    "        def f(i, des_paths):\n",
    "            for index, img_path in enumerate(img_paths):\n",
    "                img = Image.open(img_path)\n",
    "                img_name = img_path.split('/')[-1].split('.')[-2]\n",
    "                des_path = ''.join([img_name, '{}', '.png'])\n",
    "                imgs.append(ImageOps.flip(img))\n",
    "                des_paths.append(des_path.format('_flip_v_{}'.format(str(i))))\n",
    "                imgs.append(ImageOps.mirror(img))\n",
    "                des_paths.append(des_path.format('_flip_h_{}'.format(str(i))))\n",
    "                angles = [180] if idx in ['2', '3'] else [90, 180, 270]\n",
    "                for angle in angles:\n",
    "                    imgs.append(img.rotate(angle))\n",
    "                    des_paths.append(des_path.format('_{}_{}'.format(str(angle), i)))\n",
    "            return des_paths\n",
    "        \n",
    "        if idx == '2':\n",
    "            for i in [1, 2, 3, 4, 5]:\n",
    "                des_paths = f(i, des_paths)\n",
    "        else:\n",
    "            des_paths = f(0, des_paths)\n",
    "        for img, des_path in zip(imgs, des_paths):\n",
    "            des_path = '/'.join([DATA_PATH, tv, idx, des_path]) \n",
    "            img.save(des_path)\n",
    "\n",
    "        \n",
    "split()\n",
    "augmentation()"
   ]
  },
  {
   "cell_type": "code",
   "execution_count": 10,
   "metadata": {
    "ExecuteTime": {
     "end_time": "2020-05-19T07:33:01.537191Z",
     "start_time": "2020-05-19T07:33:01.153759Z"
    }
   },
   "outputs": [
    {
     "name": "stdout",
     "output_type": "stream",
     "text": [
      "Image counts:\n",
      "   train:\n",
      "       0: 3252\n",
      "       1: 2430\n",
      "       2: 1344\n",
      "       3: 1240\n",
      "       4: 1140\n",
      "       5: 3150\n",
      "   validation:\n",
      "       0: 132\n",
      "       1: 87\n",
      "       2: 16\n",
      "       3: 68\n",
      "       4: 50\n",
      "       5: 119\n"
     ]
    }
   ],
   "source": [
    "count()"
   ]
  },
  {
   "cell_type": "code",
   "execution_count": null,
   "metadata": {},
   "outputs": [],
   "source": []
  }
 ],
 "metadata": {
  "kernelspec": {
   "display_name": "Python 3",
   "language": "python",
   "name": "python3"
  },
  "language_info": {
   "codemirror_mode": {
    "name": "ipython",
    "version": 3
   },
   "file_extension": ".py",
   "mimetype": "text/x-python",
   "name": "python",
   "nbconvert_exporter": "python",
   "pygments_lexer": "ipython3",
   "version": "3.6.9"
  }
 },
 "nbformat": 4,
 "nbformat_minor": 4
}
