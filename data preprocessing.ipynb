{
 "cells": [
  {
   "cell_type": "code",
   "execution_count": 41,
   "metadata": {
    "ExecuteTime": {
     "end_time": "2020-05-19T07:28:50.682508Z",
     "start_time": "2020-05-19T07:28:50.672333Z"
    }
   },
   "outputs": [],
   "source": [
    "import os\n",
    "import random\n",
    "import glob\n",
    "import shutil\n",
    "import subprocess\n",
    "\n",
    "from tqdm import tqdm\n",
    "from PIL import Image, ImageOps\n",
    "from pyunpack import Archive"
   ]
  },
  {
   "cell_type": "code",
   "execution_count": 42,
   "metadata": {
    "ExecuteTime": {
     "end_time": "2020-05-19T07:28:51.184114Z",
     "start_time": "2020-05-19T07:28:51.180933Z"
    }
   },
   "outputs": [],
   "source": [
    "AOI_ZIP_PATH = '/root/aoi.zip'\n",
    "EXTRACT_PATH = '/root/aoi'\n",
    "\n",
    "def unzip():\n",
    "    try:\n",
    "        os.makedirs(EXTRACT_PATH)\n",
    "    except FileExistsError:\n",
    "        shutil.rmtree(EXTRACT_PATH)\n",
    "        os.mkdir(EXTRACT_PATH)\n",
    "    except:\n",
    "        pass\n",
    "    Archive(AOI_ZIP_PATH).extractall(EXTRACT_PATH)\n",
    "    for path in glob.glob(''.join([EXTRACT_PATH, '/*.zip'])):\n",
    "        Archive(path).extractall(EXTRACT_PATH)\n",
    "        os.remove(path)"
   ]
  },
  {
   "cell_type": "code",
   "execution_count": 43,
   "metadata": {},
   "outputs": [],
   "source": [
    "unzip()"
   ]
  },
  {
   "cell_type": "code",
   "execution_count": 57,
   "metadata": {
    "ExecuteTime": {
     "end_time": "2020-05-19T07:28:51.546193Z",
     "start_time": "2020-05-19T07:28:51.540999Z"
    }
   },
   "outputs": [],
   "source": [
    "RAW_DATA_PATH = '/root/aoi/train_images'\n",
    "DATA_PATH = './data/sep_data'\n",
    "DATA_PATH_2 = './data/sep2_data'\n",
    "TRAIN_CSV_PATH = '/root/aoi/train.csv'\n",
    "CLASS = list(map(str, range(6)))\n",
    "split_rate = 0.2\n",
    "\n",
    "def split():\n",
    "    for tv in ['train', 'validation']:\n",
    "        for idx in CLASS:\n",
    "            try:\n",
    "                os.makedirs('/'.join([DATA_PATH, tv, idx]))\n",
    "            except FileExistsError:\n",
    "                shutil.rmtree(DATA_PATH)\n",
    "                os.makedirs('/'.join([DATA_PATH, tv, idx]))\n",
    "        for idx in ['0', '1']:\n",
    "            try:\n",
    "                os.makedirs('/'.join([DATA_PATH_2, tv, idx]))\n",
    "            except FileExistsError:\n",
    "                shutil.rmtree(DATA_PATH_2)\n",
    "                os.makedirs('/'.join([DATA_PATH_2, tv, idx]))\n",
    "    with open(TRAIN_CSV_PATH, 'r', newline='') as csv:\n",
    "        csv.readline()\n",
    "        for line in csv.readlines():\n",
    "            ID, label = line.strip().split(',')\n",
    "            if random.random() >= split_rate:\n",
    "                tv = 'train'\n",
    "            else:\n",
    "                tv = 'validation'\n",
    "            shutil.copy('/'.join([RAW_DATA_PATH, ID]), \n",
    "                        '/'.join([DATA_PATH, tv, label, ID]))           "
   ]
  },
  {
   "cell_type": "code",
   "execution_count": 58,
   "metadata": {},
   "outputs": [],
   "source": [
    "split()"
   ]
  },
  {
   "cell_type": "code",
   "execution_count": 59,
   "metadata": {
    "ExecuteTime": {
     "end_time": "2020-05-19T07:28:51.811924Z",
     "start_time": "2020-05-19T07:28:51.807440Z"
    }
   },
   "outputs": [],
   "source": [
    "def count():\n",
    "    print(\"Image counts:\")\n",
    "    for tv in ['train', 'validation']:\n",
    "        print('   {}:'.format(tv))\n",
    "        for idx in CLASS:\n",
    "            abs_path = os.path.abspath('/'.join([DATA_PATH, tv, idx]))\n",
    "            cnt = (bytearray(subprocess.run(['tree', abs_path], \n",
    "                                           stdout=subprocess.PIPE).stdout).decode().split(' ')[-2])\n",
    "            print('{:>8}: {}'.format(idx, cnt))\n",
    "        print('   {}:'.format(tv))\n",
    "        for idx in ['0', '1']:\n",
    "            abs_path = os.path.abspath('/'.join([DATA_PATH_2, tv, idx]))\n",
    "            cnt = (bytearray(subprocess.run(['tree', abs_path], \n",
    "                                           stdout=subprocess.PIPE).stdout).decode().split(' ')[-2])\n",
    "            print('{:>8}: {}'.format(idx, cnt))  "
   ]
  },
  {
   "cell_type": "code",
   "execution_count": 60,
   "metadata": {},
   "outputs": [
    {
     "name": "stdout",
     "output_type": "stream",
     "text": [
      "Image counts:\n",
      "   train:\n",
      "       0: 540\n",
      "       1: 391\n",
      "       2: 83\n",
      "       3: 312\n",
      "       4: 194\n",
      "       5: 507\n",
      "   train:\n",
      "       0: 0\n",
      "       1: 0\n",
      "   validation:\n",
      "       0: 134\n",
      "       1: 101\n",
      "       2: 17\n",
      "       3: 66\n",
      "       4: 46\n",
      "       5: 137\n",
      "   validation:\n",
      "       0: 0\n",
      "       1: 0\n"
     ]
    }
   ],
   "source": [
    "count()"
   ]
  },
  {
   "cell_type": "code",
   "execution_count": 62,
   "metadata": {
    "ExecuteTime": {
     "end_time": "2020-05-19T07:33:01.152662Z",
     "start_time": "2020-05-19T07:28:52.077174Z"
    }
   },
   "outputs": [
    {
     "name": "stderr",
     "output_type": "stream",
     "text": [
      "100%|██████████| 550/550 [00:01<00:00, 316.12it/s]\n",
      "100%|██████████| 3300/3300 [00:02<00:00, 1312.56it/s]\n",
      "100%|██████████| 401/401 [00:01<00:00, 322.04it/s]\n",
      "100%|██████████| 2406/2406 [00:01<00:00, 1344.58it/s]\n",
      "100%|██████████| 81/81 [00:00<00:00, 313.58it/s]\n",
      "100%|██████████| 81/81 [00:00<00:00, 317.87it/s]\n",
      "100%|██████████| 81/81 [00:00<00:00, 319.11it/s]\n",
      "100%|██████████| 81/81 [00:00<00:00, 319.66it/s]\n",
      "100%|██████████| 1296/1296 [00:01<00:00, 1278.29it/s]\n",
      "100%|██████████| 293/293 [00:00<00:00, 319.36it/s]\n",
      "100%|██████████| 1172/1172 [00:00<00:00, 1428.37it/s]\n",
      "100%|██████████| 190/190 [00:00<00:00, 322.00it/s]\n",
      "100%|██████████| 190/190 [00:00<00:00, 321.07it/s]\n",
      "100%|██████████| 2280/2280 [00:01<00:00, 1396.08it/s]\n",
      "100%|██████████| 518/518 [00:01<00:00, 325.06it/s]\n",
      "100%|██████████| 3108/3108 [00:03<00:00, 872.11it/s]\n",
      "100%|██████████| 124/124 [00:00<00:00, 315.94it/s]\n",
      "100%|██████████| 124/124 [00:00<00:00, 1360.07it/s]\n",
      "100%|██████████| 91/91 [00:00<00:00, 332.85it/s]\n",
      "100%|██████████| 91/91 [00:00<00:00, 1328.71it/s]\n",
      "100%|██████████| 19/19 [00:00<00:00, 319.53it/s]\n",
      "100%|██████████| 19/19 [00:00<00:00, 1277.91it/s]\n",
      "100%|██████████| 85/85 [00:00<00:00, 320.98it/s]\n",
      "100%|██████████| 85/85 [00:00<00:00, 1419.43it/s]\n",
      "100%|██████████| 50/50 [00:00<00:00, 324.46it/s]\n",
      "100%|██████████| 50/50 [00:00<00:00, 1396.50it/s]\n",
      "100%|██████████| 126/126 [00:00<00:00, 335.90it/s]\n",
      "100%|██████████| 126/126 [00:00<00:00, 854.85it/s]\n"
     ]
    }
   ],
   "source": [
    "def augmentation():\n",
    "    tv = 'train'\n",
    "    for idx in CLASS:\n",
    "        img_paths = glob.glob('/'.join([DATA_PATH, tv, idx, '*.png']))\n",
    "        imgs = []\n",
    "        des_paths = []\n",
    "        def f(i, des_paths):\n",
    "            for index in tqdm(range(len(img_paths))):\n",
    "                img_path = img_paths[index]\n",
    "                img = Image.open(img_path)\n",
    "                img = img.resize((128, 128))\n",
    "                img_name = img_path.split('/')[-1].split('.')[-2]\n",
    "                imgs.append(img)\n",
    "                des_path = ''.join([img_name, '{}', '.png'])\n",
    "                des_paths.append(des_path.format(''))\n",
    "                imgs.append(ImageOps.flip(img))\n",
    "                des_paths.append(des_path.format('_flip_v_{}'.format(str(i))))\n",
    "                imgs.append(ImageOps.mirror(img))\n",
    "                des_paths.append(des_path.format('_flip_h_{}'.format(str(i))))\n",
    "                angles = [180] if idx in ['2', '3'] else [90, 180, 270]\n",
    "                for angle in angles:\n",
    "                    imgs.append(img.rotate(angle))\n",
    "                    des_paths.append(des_path.format('_{}_{}'.format(str(angle), i)))\n",
    "            return des_paths\n",
    "        \n",
    "        if idx == '2':\n",
    "            for i in [1, 2, 3, 4]:\n",
    "                des_paths = f(i, des_paths)\n",
    "        elif idx == '4':\n",
    "            for i in [1, 2]:\n",
    "                des_paths = f(i, des_paths)      \n",
    "        else:\n",
    "            des_paths = f(0, des_paths)\n",
    "        for i in tqdm(range(len(imgs))):\n",
    "            img = imgs[i]\n",
    "            des_path = des_paths[i]\n",
    "            if idx == '0':\n",
    "                des_path = '/'.join([DATA_PATH_2, tv, idx, des_path]) \n",
    "            else:\n",
    "                des_path = '/'.join([DATA_PATH_2, tv, '1', des_path]) \n",
    "            img.save(des_path)\n",
    "    tv = 'validation'\n",
    "    for idx in CLASS:\n",
    "        img_paths = glob.glob('/'.join([DATA_PATH, tv, idx, '*.png'])) \n",
    "        imgs = []\n",
    "        des_paths = []\n",
    "        def f(i, des_paths):\n",
    "            for index in tqdm(range(len(img_paths))):\n",
    "                img_path = img_paths[index]\n",
    "                img = Image.open(img_path)\n",
    "                img = img.resize((128, 128))\n",
    "                img_name = img_path.split('/')[-1].split('.')[-2]\n",
    "                imgs.append(img)\n",
    "                des_path = ''.join([img_name, '{}', '.png'])\n",
    "                des_paths.append(des_path.format(''))\n",
    "            return des_paths\n",
    "        \n",
    "        des_paths = f(0, des_paths)\n",
    "        for i in tqdm(range(len(imgs))):\n",
    "            img = imgs[i]\n",
    "            des_path = des_paths[i]\n",
    "            if idx == '0':\n",
    "                des_path = '/'.join([DATA_PATH_2, tv, idx, des_path]) \n",
    "            else:\n",
    "                des_path = '/'.join([DATA_PATH_2, tv, '1', des_path]) \n",
    "            img.save(des_path)\n",
    "split()\n",
    "augmentation()"
   ]
  },
  {
   "cell_type": "code",
   "execution_count": 63,
   "metadata": {
    "ExecuteTime": {
     "end_time": "2020-05-19T07:33:01.537191Z",
     "start_time": "2020-05-19T07:33:01.153759Z"
    }
   },
   "outputs": [
    {
     "name": "stdout",
     "output_type": "stream",
     "text": [
      "Image counts:\n",
      "   train:\n",
      "       0: 550\n",
      "       1: 401\n",
      "       2: 81\n",
      "       3: 293\n",
      "       4: 190\n",
      "       5: 518\n",
      "   train:\n",
      "       0: 3300\n",
      "       1: 9829\n",
      "   validation:\n",
      "       0: 124\n",
      "       1: 91\n",
      "       2: 19\n",
      "       3: 85\n",
      "       4: 50\n",
      "       5: 126\n",
      "   validation:\n",
      "       0: 124\n",
      "       1: 371\n"
     ]
    }
   ],
   "source": [
    "count()"
   ]
  },
  {
   "cell_type": "code",
   "execution_count": null,
   "metadata": {},
   "outputs": [],
   "source": []
  }
 ],
 "metadata": {
  "kernelspec": {
   "display_name": "Python 3",
   "language": "python",
   "name": "python3"
  },
  "language_info": {
   "codemirror_mode": {
    "name": "ipython",
    "version": 3
   },
   "file_extension": ".py",
   "mimetype": "text/x-python",
   "name": "python",
   "nbconvert_exporter": "python",
   "pygments_lexer": "ipython3",
   "version": "3.6.9"
  }
 },
 "nbformat": 4,
 "nbformat_minor": 4
}
