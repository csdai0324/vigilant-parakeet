{
 "cells": [
  {
   "cell_type": "code",
   "execution_count": 169,
   "metadata": {
    "ExecuteTime": {
     "end_time": "2020-05-18T03:25:18.409695Z",
     "start_time": "2020-05-18T03:25:18.406462Z"
    }
   },
   "outputs": [],
   "source": [
    "import os\n",
    "import random\n",
    "import glob\n",
    "import shutil\n",
    "import subprocess\n",
    "\n",
    "from PIL import Image, ImageOps\n",
    "from pyunpack import Archive"
   ]
  },
  {
   "cell_type": "code",
   "execution_count": 170,
   "metadata": {
    "ExecuteTime": {
     "end_time": "2020-05-18T03:25:18.593272Z",
     "start_time": "2020-05-18T03:25:18.588424Z"
    }
   },
   "outputs": [],
   "source": [
    "AOI_ZIP_PATH = '/root/aoi.zip'\n",
    "EXTRACT_PATH = './data/raw_data'\n",
    "\n",
    "def unzip():\n",
    "    try:\n",
    "        os.makedirs(EXTRACT_PATH)\n",
    "    except FileExistsError:\n",
    "        shutil.rmtree(EXTRACT_PATH)\n",
    "        os.mkdir(EXTRACT_PATH)\n",
    "    except:\n",
    "        pass\n",
    "    Archive(AOI_ZIP_PATH).extractall(EXTRACT_PATH)\n",
    "    for path in glob.glob(''.join([EXTRACT_PATH, '/*.zip'])):\n",
    "        Archive(path).extractall(EXTRACT_PATH)\n",
    "        os.remove(path)"
   ]
  },
  {
   "cell_type": "code",
   "execution_count": 177,
   "metadata": {
    "ExecuteTime": {
     "end_time": "2020-05-18T03:36:21.798819Z",
     "start_time": "2020-05-18T03:36:21.791202Z"
    }
   },
   "outputs": [],
   "source": [
    "RAW_DATA_PATH = './data/raw_data/train_images'\n",
    "DATA_PATH = './data/sep_data'\n",
    "TRAIN_CSV_PATH = './data/raw_data/train.csv'\n",
    "CLASS = list(map(str, range(6)))\n",
    "split_rate = 0.2\n",
    "\n",
    "def split():\n",
    "    for tv in ['train', 'validation']:\n",
    "        for idx in CLASS:\n",
    "            try:\n",
    "                os.makedirs('/'.join([DATA_PATH, tv, idx]))\n",
    "            except FileExistsError:\n",
    "                shutil.rmtree(DATA_PATH)\n",
    "                os.makedirs('/'.join([DATA_PATH, tv, idx]))\n",
    "    with open(TRAIN_CSV_PATH, 'r', newline='') as csv:\n",
    "        csv.readline()\n",
    "        for line in csv.readlines():\n",
    "            ID, label = line.strip().split(',')\n",
    "            if random.random() >= split_rate:\n",
    "                tv = 'train'\n",
    "            else:\n",
    "                tv = 'validation'\n",
    "            shutil.copy('/'.join([RAW_DATA_PATH, ID]), \n",
    "                        '/'.join([DATA_PATH, tv, label, ID]))"
   ]
  },
  {
   "cell_type": "code",
   "execution_count": 178,
   "metadata": {
    "ExecuteTime": {
     "end_time": "2020-05-18T03:36:21.953210Z",
     "start_time": "2020-05-18T03:36:21.948475Z"
    }
   },
   "outputs": [],
   "source": [
    "def count():\n",
    "    print(\"Image counts:\")\n",
    "    for tv in ['train', 'validation']:\n",
    "        print('   {}:'.format(tv))\n",
    "        for idx in CLASS:\n",
    "            abs_path = os.path.abspath('/'.join([DATA_PATH, tv, idx]))\n",
    "            cnt = (bytearray(subprocess.run(['tree', abs_path], \n",
    "                                           stdout=subprocess.PIPE).stdout).decode().split(' ')[-2])\n",
    "            print('{:>8}: {}'.format(idx, cnt))"
   ]
  },
  {
   "cell_type": "code",
   "execution_count": 179,
   "metadata": {
    "ExecuteTime": {
     "end_time": "2020-05-18T03:40:35.582897Z",
     "start_time": "2020-05-18T03:36:22.109395Z"
    }
   },
   "outputs": [
    {
     "name": "stdout",
     "output_type": "stream",
     "text": [
      "0 0\n",
      "0 100\n",
      "0 200\n",
      "0 300\n",
      "0 400\n",
      "0 500\n",
      "1 0\n",
      "1 100\n",
      "1 200\n",
      "1 300\n",
      "1 400\n",
      "2 0\n",
      "3 0\n",
      "3 100\n",
      "3 200\n",
      "3 300\n",
      "4 0\n",
      "4 100\n",
      "5 0\n",
      "5 100\n",
      "5 200\n",
      "5 300\n",
      "5 400\n",
      "5 500\n"
     ]
    }
   ],
   "source": [
    "def augmentation():\n",
    "    tv = 'train'\n",
    "    for idx in CLASS:\n",
    "        img_paths = glob.glob('/'.join([DATA_PATH, tv, idx, '*.png']))\n",
    "        imgs = []\n",
    "        des_paths = []\n",
    "        for index, img_path in enumerate(img_paths):\n",
    "            img = Image.open(img_path)\n",
    "            img_name = img_path.split('/')[-1].split('.')[-2]\n",
    "            des_path = ''.join([img_name, '{}', '.png'])\n",
    "            imgs.append(ImageOps.flip(img))\n",
    "            des_paths.append(des_path.format('_flip_v'))\n",
    "            imgs.append(ImageOps.mirror(img))\n",
    "            des_paths.append(des_path.format('_flip_h'))\n",
    "            angles = [180] if idx in ['2', '3'] else [90, 180, 270]\n",
    "            for angle in angles:\n",
    "                imgs.append(img.rotate(angle))\n",
    "                des_paths.append(des_path.format('_'+str(angle)))\n",
    "            if idx in list(map(str, range(2, 5))):\n",
    "                imgs.append(ImageOps.flip(img))\n",
    "                des_paths.append(des_path.format('_flip_v_2'))\n",
    "                imgs.append(ImageOps.mirror(img))\n",
    "                des_paths.append(des_path.format('_flip_h_2'))\n",
    "                for angle in angles:\n",
    "                    imgs.append(img.rotate(angle))\n",
    "                    des_paths.append(des_path.format('_'+str(angle)+'_'))\n",
    "            if index % 300 == 0:\n",
    "                print(idx, index)\n",
    "            if idx == '2':\n",
    "                imgs.append(ImageOps.flip(img))\n",
    "                des_paths.append(des_path.format('_flip_v_3'))\n",
    "                imgs.append(ImageOps.mirror(img))\n",
    "                des_paths.append(des_path.format('_flip_h_3'))\n",
    "                for angle in angles:\n",
    "                    imgs.append(img.rotate(angle))\n",
    "                    des_paths.append(des_path.format('_'+str(angle)+'_2'))\n",
    "        for img, des_path in zip(imgs, des_paths):\n",
    "            des_path = '/'.join([DATA_PATH, tv, idx, des_path]) \n",
    "            img.save(des_path)\n",
    "\n",
    "        \n",
    "split()\n",
    "augmentation()"
   ]
  },
  {
   "cell_type": "code",
   "execution_count": 180,
   "metadata": {
    "ExecuteTime": {
     "end_time": "2020-05-18T03:40:38.236173Z",
     "start_time": "2020-05-18T03:40:35.584928Z"
    }
   },
   "outputs": [
    {
     "name": "stdout",
     "output_type": "stream",
     "text": [
      "Image counts:\n",
      "   train:\n",
      "       0: 3276\n",
      "       1: 2502\n",
      "       2: 740\n",
      "       3: 2163\n",
      "       4: 2046\n",
      "       5: 3072\n",
      "   validation:\n",
      "       0: 128\n",
      "       1: 75\n",
      "       2: 26\n",
      "       3: 69\n",
      "       4: 54\n",
      "       5: 132\n"
     ]
    }
   ],
   "source": [
    "count()"
   ]
  }
 ],
 "metadata": {
  "kernelspec": {
   "display_name": "Python 3",
   "language": "python",
   "name": "python3"
  },
  "language_info": {
   "codemirror_mode": {
    "name": "ipython",
    "version": 3
   },
   "file_extension": ".py",
   "mimetype": "text/x-python",
   "name": "python",
   "nbconvert_exporter": "python",
   "pygments_lexer": "ipython3",
   "version": "3.6.9"
  }
 },
 "nbformat": 4,
 "nbformat_minor": 4
}
