{
 "cells": [
  {
   "cell_type": "code",
   "execution_count": 1,
   "metadata": {
    "ExecuteTime": {
     "end_time": "2020-05-19T07:28:50.682508Z",
     "start_time": "2020-05-19T07:28:50.672333Z"
    }
   },
   "outputs": [],
   "source": [
    "import os\n",
    "import random\n",
    "import glob\n",
    "import shutil\n",
    "import subprocess\n",
    "\n",
    "from PIL import Image, ImageOps\n",
    "from pyunpack import Archive"
   ]
  },
  {
   "cell_type": "code",
   "execution_count": 2,
   "metadata": {
    "ExecuteTime": {
     "end_time": "2020-05-19T07:28:51.184114Z",
     "start_time": "2020-05-19T07:28:51.180933Z"
    }
   },
   "outputs": [],
   "source": [
    "AOI_ZIP_PATH = '/root/aoi.zip'\n",
    "EXTRACT_PATH = './data/raw_data'\n",
    "\n",
    "def unzip():\n",
    "    try:\n",
    "        os.makedirs(EXTRACT_PATH)\n",
    "    except FileExistsError:\n",
    "        shutil.rmtree(EXTRACT_PATH)\n",
    "        os.mkdir(EXTRACT_PATH)\n",
    "    except:\n",
    "        pass\n",
    "    Archive(AOI_ZIP_PATH).extractall(EXTRACT_PATH)\n",
    "    for path in glob.glob(''.join([EXTRACT_PATH, '/*.zip'])):\n",
    "        Archive(path).extractall(EXTRACT_PATH)\n",
    "        os.remove(path)"
   ]
  },
  {
   "cell_type": "code",
   "execution_count": 3,
   "metadata": {
    "ExecuteTime": {
     "end_time": "2020-05-19T07:28:51.546193Z",
     "start_time": "2020-05-19T07:28:51.540999Z"
    }
   },
   "outputs": [],
   "source": [
    "RAW_DATA_PATH = './data/raw_data/train_images'\n",
    "DATA_PATH = './data/sep_data'\n",
    "TRAIN_CSV_PATH = './data/raw_data/train.csv'\n",
    "CLASS = list(map(str, range(6)))\n",
    "split_rate = 0.2\n",
    "\n",
    "def split():\n",
    "    for tv in ['train', 'validation']:\n",
    "        for idx in CLASS:\n",
    "            try:\n",
    "                os.makedirs('/'.join([DATA_PATH, tv, idx]))\n",
    "            except FileExistsError:\n",
    "                shutil.rmtree(DATA_PATH)\n",
    "                os.makedirs('/'.join([DATA_PATH, tv, idx]))\n",
    "    with open(TRAIN_CSV_PATH, 'r', newline='') as csv:\n",
    "        csv.readline()\n",
    "        for line in csv.readlines():\n",
    "            ID, label = line.strip().split(',')\n",
    "            if random.random() >= split_rate:\n",
    "                tv = 'train'\n",
    "            else:\n",
    "                tv = 'validation'\n",
    "            shutil.copy('/'.join([RAW_DATA_PATH, ID]), \n",
    "                        '/'.join([DATA_PATH, tv, label, ID]))"
   ]
  },
  {
   "cell_type": "code",
   "execution_count": 4,
   "metadata": {
    "ExecuteTime": {
     "end_time": "2020-05-19T07:28:51.811924Z",
     "start_time": "2020-05-19T07:28:51.807440Z"
    }
   },
   "outputs": [],
   "source": [
    "def count():\n",
    "    print(\"Image counts:\")\n",
    "    for tv in ['train', 'validation']:\n",
    "        print('   {}:'.format(tv))\n",
    "        for idx in CLASS:\n",
    "            abs_path = os.path.abspath('/'.join([DATA_PATH, tv, idx]))\n",
    "            cnt = (bytearray(subprocess.run(['tree', abs_path], \n",
    "                                           stdout=subprocess.PIPE).stdout).decode().split(' ')[-2])\n",
    "            print('{:>8}: {}'.format(idx, cnt))"
   ]
  },
  {
   "cell_type": "code",
   "execution_count": 5,
   "metadata": {
    "ExecuteTime": {
     "end_time": "2020-05-19T07:33:01.152662Z",
     "start_time": "2020-05-19T07:28:52.077174Z"
    }
   },
   "outputs": [
    {
     "name": "stdout",
     "output_type": "stream",
     "text": [
      "0 0\n",
      "0 300\n",
      "1 0\n",
      "1 300\n",
      "2 0\n",
      "3 0\n",
      "4 0\n",
      "5 0\n",
      "5 300\n"
     ]
    }
   ],
   "source": [
    "def augmentation():\n",
    "    tv = 'train'\n",
    "    for idx in CLASS:\n",
    "        img_paths = glob.glob('/'.join([DATA_PATH, tv, idx, '*.png']))\n",
    "        imgs = []\n",
    "        des_paths = []\n",
    "        for index, img_path in enumerate(img_paths):\n",
    "            img = Image.open(img_path)\n",
    "            img_name = img_path.split('/')[-1].split('.')[-2]\n",
    "            des_path = ''.join([img_name, '{}', '.png'])\n",
    "            imgs.append(ImageOps.flip(img))\n",
    "            des_paths.append(des_path.format('_flip_v'))\n",
    "            imgs.append(ImageOps.mirror(img))\n",
    "            des_paths.append(des_path.format('_flip_h'))\n",
    "            angles = [180] if idx in ['2', '3'] else [90, 180, 270]\n",
    "            for angle in angles:\n",
    "                imgs.append(img.rotate(angle))\n",
    "                des_paths.append(des_path.format('_'+str(angle)))\n",
    "            if idx in list(map(str, range(2, 5))):\n",
    "                imgs.append(ImageOps.flip(img))\n",
    "                des_paths.append(des_path.format('_flip_v_2'))\n",
    "                imgs.append(ImageOps.mirror(img))\n",
    "                des_paths.append(des_path.format('_flip_h_2'))\n",
    "                for angle in angles:\n",
    "                    imgs.append(img.rotate(angle))\n",
    "                    des_paths.append(des_path.format('_'+str(angle)+'_'))\n",
    "            if index % 300 == 0:\n",
    "                print(idx, index)\n",
    "            if idx == '2':\n",
    "                imgs.append(ImageOps.flip(img))\n",
    "                des_paths.append(des_path.format('_flip_v_3'))\n",
    "                imgs.append(ImageOps.mirror(img))\n",
    "                des_paths.append(des_path.format('_flip_h_3'))\n",
    "                for angle in angles:\n",
    "                    imgs.append(img.rotate(angle))\n",
    "                    des_paths.append(des_path.format('_'+str(angle)+'_2'))\n",
    "                imgs.append(ImageOps.flip(img))\n",
    "                des_paths.append(des_path.format('_flip_v_4'))\n",
    "                imgs.append(ImageOps.mirror(img))\n",
    "                des_paths.append(des_path.format('_flip_h_4'))\n",
    "                for angle in angles:\n",
    "                    imgs.append(img.rotate(angle))\n",
    "                    des_paths.append(des_path.format('_'+str(angle)+'_3'))\n",
    "        for img, des_path in zip(imgs, des_paths):\n",
    "            des_path = '/'.join([DATA_PATH, tv, idx, des_path]) \n",
    "            img.save(des_path)\n",
    "\n",
    "        \n",
    "split()\n",
    "augmentation()"
   ]
  },
  {
   "cell_type": "code",
   "execution_count": 6,
   "metadata": {
    "ExecuteTime": {
     "end_time": "2020-05-19T07:33:01.537191Z",
     "start_time": "2020-05-19T07:33:01.153759Z"
    }
   },
   "outputs": [
    {
     "name": "stdout",
     "output_type": "stream",
     "text": [
      "Image counts:\n",
      "   train:\n",
      "       0: 3168\n",
      "       1: 2370\n",
      "       2: 1053\n",
      "       3: 2023\n",
      "       4: 2200\n",
      "       5: 3042\n",
      "   validation:\n",
      "       0: 146\n",
      "       1: 97\n",
      "       2: 19\n",
      "       3: 89\n",
      "       4: 40\n",
      "       5: 137\n"
     ]
    }
   ],
   "source": [
    "count()"
   ]
  }
 ],
 "metadata": {
  "kernelspec": {
   "display_name": "Python 3",
   "language": "python",
   "name": "python3"
  },
  "language_info": {
   "codemirror_mode": {
    "name": "ipython",
    "version": 3
   },
   "file_extension": ".py",
   "mimetype": "text/x-python",
   "name": "python",
   "nbconvert_exporter": "python",
   "pygments_lexer": "ipython3",
   "version": "3.6.9"
  }
 },
 "nbformat": 4,
 "nbformat_minor": 4
}
