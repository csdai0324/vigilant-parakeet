{
 "cells": [
  {
   "cell_type": "code",
   "execution_count": 85,
   "metadata": {
    "ExecuteTime": {
     "end_time": "2020-05-11T02:17:30.323511Z",
     "start_time": "2020-05-11T02:17:30.318453Z"
    }
   },
   "outputs": [],
   "source": [
    "import tensorflow as tf\n",
    "import numpy as np\n",
    "\n",
    "from PIL import Image\n",
    "from IPython.display import display\n",
    "from matplotlib.pyplot import imshow\n",
    "\n",
    "%matplotlib inline"
   ]
  },
  {
   "cell_type": "code",
   "execution_count": 100,
   "metadata": {
    "ExecuteTime": {
     "end_time": "2020-05-11T02:19:16.479814Z",
     "start_time": "2020-05-11T02:19:16.295753Z"
    }
   },
   "outputs": [],
   "source": [
    "(x_train, y_train), (x_test, y_test) = tf.keras.datasets.mnist.load_data()"
   ]
  },
  {
   "cell_type": "code",
   "execution_count": 101,
   "metadata": {
    "ExecuteTime": {
     "end_time": "2020-05-11T02:19:16.743595Z",
     "start_time": "2020-05-11T02:19:16.541516Z"
    }
   },
   "outputs": [],
   "source": [
    "x_train = x_train / 255.\n",
    "x_test = x_test / 255."
   ]
  },
  {
   "cell_type": "code",
   "execution_count": 102,
   "metadata": {
    "ExecuteTime": {
     "end_time": "2020-05-11T02:19:18.273361Z",
     "start_time": "2020-05-11T02:19:18.270937Z"
    }
   },
   "outputs": [],
   "source": [
    "img_size = 28\n",
    "batch_size = 1"
   ]
  },
  {
   "cell_type": "code",
   "execution_count": 141,
   "metadata": {
    "ExecuteTime": {
     "end_time": "2020-05-11T02:38:28.530544Z",
     "start_time": "2020-05-11T02:38:28.477521Z"
    }
   },
   "outputs": [],
   "source": [
    "encoder = tf.keras.models.Sequential([\n",
    "    tf.keras.layers.Flatten(input_shape=(28, 28)),\n",
    "    tf.keras.layers.Dense(128, activation='relu'),\n",
    "])\n",
    "decoder = tf.keras.models.Sequential([\n",
    "    tf.keras.layers.InputLayer(input_shape=(128,)),\n",
    "    tf.keras.layers.Dense(784, activation='sigmoid')\n",
    "])\n",
    "AE = tf.keras.models.Sequential([\n",
    "    encoder,\n",
    "    decoder\n",
    "])"
   ]
  },
  {
   "cell_type": "code",
   "execution_count": 142,
   "metadata": {
    "ExecuteTime": {
     "end_time": "2020-05-11T02:38:29.000605Z",
     "start_time": "2020-05-11T02:38:28.990570Z"
    }
   },
   "outputs": [],
   "source": [
    "AE.compile(optimizer = tf.keras.optimizers.Adam(lr = 0.0001), loss='binary_crossentropy')"
   ]
  },
  {
   "cell_type": "code",
   "execution_count": 143,
   "metadata": {
    "ExecuteTime": {
     "end_time": "2020-05-11T02:39:42.291639Z",
     "start_time": "2020-05-11T02:38:29.415921Z"
    }
   },
   "outputs": [
    {
     "name": "stdout",
     "output_type": "stream",
     "text": [
      "Epoch 1/200\n",
      "118/118 [==============================] - 0s 3ms/step - loss: 0.5510 - val_loss: 0.3515\n",
      "Epoch 2/200\n",
      "118/118 [==============================] - 0s 3ms/step - loss: 0.2984 - val_loss: 0.2686\n",
      "Epoch 3/200\n",
      "118/118 [==============================] - 0s 3ms/step - loss: 0.2548 - val_loss: 0.2389\n",
      "Epoch 4/200\n",
      "118/118 [==============================] - 0s 3ms/step - loss: 0.2292 - val_loss: 0.2168\n",
      "Epoch 5/200\n",
      "118/118 [==============================] - 0s 3ms/step - loss: 0.2099 - val_loss: 0.2002\n",
      "Epoch 6/200\n",
      "118/118 [==============================] - 0s 3ms/step - loss: 0.1955 - val_loss: 0.1880\n",
      "Epoch 7/200\n",
      "118/118 [==============================] - 0s 3ms/step - loss: 0.1847 - val_loss: 0.1784\n",
      "Epoch 8/200\n",
      "118/118 [==============================] - 0s 3ms/step - loss: 0.1759 - val_loss: 0.1705\n",
      "Epoch 9/200\n",
      "118/118 [==============================] - 0s 3ms/step - loss: 0.1685 - val_loss: 0.1634\n",
      "Epoch 10/200\n",
      "118/118 [==============================] - 0s 3ms/step - loss: 0.1619 - val_loss: 0.1573\n",
      "Epoch 11/200\n",
      "118/118 [==============================] - 0s 3ms/step - loss: 0.1561 - val_loss: 0.1518\n",
      "Epoch 12/200\n",
      "118/118 [==============================] - 0s 3ms/step - loss: 0.1507 - val_loss: 0.1467\n",
      "Epoch 13/200\n",
      "118/118 [==============================] - 0s 3ms/step - loss: 0.1459 - val_loss: 0.1422\n",
      "Epoch 14/200\n",
      "118/118 [==============================] - 0s 3ms/step - loss: 0.1415 - val_loss: 0.1380\n",
      "Epoch 15/200\n",
      "118/118 [==============================] - 0s 3ms/step - loss: 0.1374 - val_loss: 0.1341\n",
      "Epoch 16/200\n",
      "118/118 [==============================] - 0s 3ms/step - loss: 0.1337 - val_loss: 0.1305\n",
      "Epoch 17/200\n",
      "118/118 [==============================] - 0s 3ms/step - loss: 0.1302 - val_loss: 0.1272\n",
      "Epoch 18/200\n",
      "118/118 [==============================] - 0s 3ms/step - loss: 0.1270 - val_loss: 0.1242\n",
      "Epoch 19/200\n",
      "118/118 [==============================] - 0s 3ms/step - loss: 0.1241 - val_loss: 0.1213\n",
      "Epoch 20/200\n",
      "118/118 [==============================] - 0s 3ms/step - loss: 0.1213 - val_loss: 0.1186\n",
      "Epoch 21/200\n",
      "118/118 [==============================] - 0s 3ms/step - loss: 0.1187 - val_loss: 0.1161\n",
      "Epoch 22/200\n",
      "118/118 [==============================] - 0s 3ms/step - loss: 0.1162 - val_loss: 0.1137\n",
      "Epoch 23/200\n",
      "118/118 [==============================] - 0s 3ms/step - loss: 0.1140 - val_loss: 0.1116\n",
      "Epoch 24/200\n",
      "118/118 [==============================] - 0s 3ms/step - loss: 0.1118 - val_loss: 0.1095\n",
      "Epoch 25/200\n",
      "118/118 [==============================] - 0s 3ms/step - loss: 0.1097 - val_loss: 0.1075\n",
      "Epoch 26/200\n",
      "118/118 [==============================] - 0s 3ms/step - loss: 0.1079 - val_loss: 0.1057\n",
      "Epoch 27/200\n",
      "118/118 [==============================] - 0s 3ms/step - loss: 0.1061 - val_loss: 0.1040\n",
      "Epoch 28/200\n",
      "118/118 [==============================] - 0s 3ms/step - loss: 0.1043 - val_loss: 0.1023\n",
      "Epoch 29/200\n",
      "118/118 [==============================] - 0s 3ms/step - loss: 0.1027 - val_loss: 0.1007\n",
      "Epoch 30/200\n",
      "118/118 [==============================] - 0s 3ms/step - loss: 0.1012 - val_loss: 0.0992\n",
      "Epoch 31/200\n",
      "118/118 [==============================] - 0s 3ms/step - loss: 0.0997 - val_loss: 0.0978\n",
      "Epoch 32/200\n",
      "118/118 [==============================] - 0s 3ms/step - loss: 0.0983 - val_loss: 0.0964\n",
      "Epoch 33/200\n",
      "118/118 [==============================] - 0s 3ms/step - loss: 0.0969 - val_loss: 0.0951\n",
      "Epoch 34/200\n",
      "118/118 [==============================] - 0s 3ms/step - loss: 0.0956 - val_loss: 0.0939\n",
      "Epoch 35/200\n",
      "118/118 [==============================] - 0s 3ms/step - loss: 0.0944 - val_loss: 0.0927\n",
      "Epoch 36/200\n",
      "118/118 [==============================] - 0s 3ms/step - loss: 0.0932 - val_loss: 0.0916\n",
      "Epoch 37/200\n",
      "118/118 [==============================] - 0s 3ms/step - loss: 0.0921 - val_loss: 0.0905\n",
      "Epoch 38/200\n",
      "118/118 [==============================] - 0s 3ms/step - loss: 0.0910 - val_loss: 0.0895\n",
      "Epoch 39/200\n",
      "118/118 [==============================] - 0s 3ms/step - loss: 0.0900 - val_loss: 0.0885\n",
      "Epoch 40/200\n",
      "118/118 [==============================] - 0s 3ms/step - loss: 0.0890 - val_loss: 0.0875\n",
      "Epoch 41/200\n",
      "118/118 [==============================] - 0s 3ms/step - loss: 0.0881 - val_loss: 0.0867\n",
      "Epoch 42/200\n",
      "118/118 [==============================] - 0s 3ms/step - loss: 0.0872 - val_loss: 0.0858\n",
      "Epoch 43/200\n",
      "118/118 [==============================] - 0s 3ms/step - loss: 0.0863 - val_loss: 0.0850\n",
      "Epoch 44/200\n",
      "118/118 [==============================] - 0s 3ms/step - loss: 0.0855 - val_loss: 0.0842\n",
      "Epoch 45/200\n",
      "118/118 [==============================] - 0s 3ms/step - loss: 0.0847 - val_loss: 0.0835\n",
      "Epoch 46/200\n",
      "118/118 [==============================] - 0s 3ms/step - loss: 0.0840 - val_loss: 0.0827\n",
      "Epoch 47/200\n",
      "118/118 [==============================] - 0s 3ms/step - loss: 0.0833 - val_loss: 0.0821\n",
      "Epoch 48/200\n",
      "118/118 [==============================] - 0s 3ms/step - loss: 0.0825 - val_loss: 0.0814\n",
      "Epoch 49/200\n",
      "118/118 [==============================] - 0s 3ms/step - loss: 0.0819 - val_loss: 0.0808\n",
      "Epoch 50/200\n",
      "118/118 [==============================] - 0s 3ms/step - loss: 0.0814 - val_loss: 0.0803\n",
      "Epoch 51/200\n",
      "118/118 [==============================] - 0s 3ms/step - loss: 0.0807 - val_loss: 0.0797\n",
      "Epoch 52/200\n",
      "118/118 [==============================] - 0s 3ms/step - loss: 0.0802 - val_loss: 0.0792\n",
      "Epoch 53/200\n",
      "118/118 [==============================] - 0s 3ms/step - loss: 0.0797 - val_loss: 0.0787\n",
      "Epoch 54/200\n",
      "118/118 [==============================] - 0s 3ms/step - loss: 0.0791 - val_loss: 0.0782\n",
      "Epoch 55/200\n",
      "118/118 [==============================] - 0s 3ms/step - loss: 0.0787 - val_loss: 0.0777\n",
      "Epoch 56/200\n",
      "118/118 [==============================] - 0s 3ms/step - loss: 0.0782 - val_loss: 0.0773\n",
      "Epoch 57/200\n",
      "118/118 [==============================] - 0s 3ms/step - loss: 0.0778 - val_loss: 0.0769\n",
      "Epoch 58/200\n",
      "118/118 [==============================] - 0s 3ms/step - loss: 0.0773 - val_loss: 0.0765\n",
      "Epoch 59/200\n",
      "118/118 [==============================] - 0s 3ms/step - loss: 0.0769 - val_loss: 0.0761\n",
      "Epoch 60/200\n",
      "118/118 [==============================] - 0s 3ms/step - loss: 0.0766 - val_loss: 0.0758\n",
      "Epoch 61/200\n",
      "118/118 [==============================] - 0s 3ms/step - loss: 0.0762 - val_loss: 0.0754\n",
      "Epoch 62/200\n",
      "118/118 [==============================] - 0s 3ms/step - loss: 0.0758 - val_loss: 0.0751\n",
      "Epoch 63/200\n",
      "118/118 [==============================] - 0s 3ms/step - loss: 0.0755 - val_loss: 0.0748\n",
      "Epoch 64/200\n",
      "118/118 [==============================] - 0s 3ms/step - loss: 0.0752 - val_loss: 0.0745\n",
      "Epoch 65/200\n",
      "118/118 [==============================] - 0s 3ms/step - loss: 0.0749 - val_loss: 0.0742\n",
      "Epoch 66/200\n",
      "118/118 [==============================] - 0s 3ms/step - loss: 0.0746 - val_loss: 0.0739\n",
      "Epoch 67/200\n",
      "118/118 [==============================] - 0s 3ms/step - loss: 0.0743 - val_loss: 0.0737\n",
      "Epoch 68/200\n",
      "118/118 [==============================] - 0s 3ms/step - loss: 0.0741 - val_loss: 0.0734\n",
      "Epoch 69/200\n",
      "118/118 [==============================] - 0s 3ms/step - loss: 0.0738 - val_loss: 0.0732\n",
      "Epoch 70/200\n",
      "118/118 [==============================] - 0s 3ms/step - loss: 0.0736 - val_loss: 0.0730\n",
      "Epoch 71/200\n",
      "118/118 [==============================] - 0s 3ms/step - loss: 0.0734 - val_loss: 0.0727\n",
      "Epoch 72/200\n",
      "118/118 [==============================] - 0s 3ms/step - loss: 0.0731 - val_loss: 0.0725\n",
      "Epoch 73/200\n",
      "118/118 [==============================] - 0s 3ms/step - loss: 0.0730 - val_loss: 0.0724\n",
      "Epoch 74/200\n",
      "118/118 [==============================] - 0s 3ms/step - loss: 0.0728 - val_loss: 0.0721\n",
      "Epoch 75/200\n",
      "118/118 [==============================] - 0s 3ms/step - loss: 0.0725 - val_loss: 0.0720\n",
      "Epoch 76/200\n",
      "118/118 [==============================] - 0s 3ms/step - loss: 0.0724 - val_loss: 0.0718\n",
      "Epoch 77/200\n",
      "118/118 [==============================] - 0s 3ms/step - loss: 0.0722 - val_loss: 0.0716\n",
      "Epoch 78/200\n",
      "118/118 [==============================] - 0s 3ms/step - loss: 0.0720 - val_loss: 0.0715\n",
      "Epoch 79/200\n",
      "118/118 [==============================] - 0s 3ms/step - loss: 0.0718 - val_loss: 0.0713\n",
      "Epoch 80/200\n",
      "118/118 [==============================] - 0s 3ms/step - loss: 0.0717 - val_loss: 0.0712\n",
      "Epoch 81/200\n"
     ]
    },
    {
     "name": "stdout",
     "output_type": "stream",
     "text": [
      "118/118 [==============================] - 0s 3ms/step - loss: 0.0715 - val_loss: 0.0710\n",
      "Epoch 82/200\n",
      "118/118 [==============================] - 0s 3ms/step - loss: 0.0714 - val_loss: 0.0709\n",
      "Epoch 83/200\n",
      "118/118 [==============================] - 0s 3ms/step - loss: 0.0713 - val_loss: 0.0707\n",
      "Epoch 84/200\n",
      "118/118 [==============================] - 0s 3ms/step - loss: 0.0711 - val_loss: 0.0706\n",
      "Epoch 85/200\n",
      "118/118 [==============================] - 0s 3ms/step - loss: 0.0710 - val_loss: 0.0705\n",
      "Epoch 86/200\n",
      "118/118 [==============================] - 0s 3ms/step - loss: 0.0709 - val_loss: 0.0704\n",
      "Epoch 87/200\n",
      "118/118 [==============================] - 0s 3ms/step - loss: 0.0708 - val_loss: 0.0703\n",
      "Epoch 88/200\n",
      "118/118 [==============================] - 0s 3ms/step - loss: 0.0706 - val_loss: 0.0701\n",
      "Epoch 89/200\n",
      "118/118 [==============================] - 0s 3ms/step - loss: 0.0705 - val_loss: 0.0700\n",
      "Epoch 90/200\n",
      "118/118 [==============================] - 0s 3ms/step - loss: 0.0704 - val_loss: 0.0699\n",
      "Epoch 91/200\n",
      "118/118 [==============================] - 0s 3ms/step - loss: 0.0703 - val_loss: 0.0698\n",
      "Epoch 92/200\n",
      "118/118 [==============================] - 0s 3ms/step - loss: 0.0702 - val_loss: 0.0697\n",
      "Epoch 93/200\n",
      "118/118 [==============================] - 0s 3ms/step - loss: 0.0701 - val_loss: 0.0696\n",
      "Epoch 94/200\n",
      "118/118 [==============================] - 0s 3ms/step - loss: 0.0700 - val_loss: 0.0695\n",
      "Epoch 95/200\n",
      "118/118 [==============================] - 0s 3ms/step - loss: 0.0699 - val_loss: 0.0695\n",
      "Epoch 96/200\n",
      "118/118 [==============================] - 0s 3ms/step - loss: 0.0698 - val_loss: 0.0694\n",
      "Epoch 97/200\n",
      "118/118 [==============================] - 0s 3ms/step - loss: 0.0698 - val_loss: 0.0693\n",
      "Epoch 98/200\n",
      "118/118 [==============================] - 0s 3ms/step - loss: 0.0697 - val_loss: 0.0692\n",
      "Epoch 99/200\n",
      "118/118 [==============================] - 0s 3ms/step - loss: 0.0696 - val_loss: 0.0691\n",
      "Epoch 100/200\n",
      "118/118 [==============================] - 0s 3ms/step - loss: 0.0695 - val_loss: 0.0691\n",
      "Epoch 101/200\n",
      "118/118 [==============================] - 0s 3ms/step - loss: 0.0694 - val_loss: 0.0690\n",
      "Epoch 102/200\n",
      "118/118 [==============================] - 0s 3ms/step - loss: 0.0693 - val_loss: 0.0689\n",
      "Epoch 103/200\n",
      "118/118 [==============================] - 0s 3ms/step - loss: 0.0693 - val_loss: 0.0689\n",
      "Epoch 104/200\n",
      "118/118 [==============================] - 0s 3ms/step - loss: 0.0692 - val_loss: 0.0688\n",
      "Epoch 105/200\n",
      "118/118 [==============================] - 0s 3ms/step - loss: 0.0691 - val_loss: 0.0687\n",
      "Epoch 106/200\n",
      "118/118 [==============================] - 0s 3ms/step - loss: 0.0691 - val_loss: 0.0687\n",
      "Epoch 107/200\n",
      "118/118 [==============================] - 0s 3ms/step - loss: 0.0690 - val_loss: 0.0686\n",
      "Epoch 108/200\n",
      "118/118 [==============================] - 0s 3ms/step - loss: 0.0690 - val_loss: 0.0685\n",
      "Epoch 109/200\n",
      "118/118 [==============================] - 0s 3ms/step - loss: 0.0689 - val_loss: 0.0685\n",
      "Epoch 110/200\n",
      "118/118 [==============================] - 0s 3ms/step - loss: 0.0688 - val_loss: 0.0684\n",
      "Epoch 111/200\n",
      "118/118 [==============================] - 0s 3ms/step - loss: 0.0688 - val_loss: 0.0684\n",
      "Epoch 112/200\n",
      "118/118 [==============================] - 0s 3ms/step - loss: 0.0687 - val_loss: 0.0683\n",
      "Epoch 113/200\n",
      "118/118 [==============================] - 0s 3ms/step - loss: 0.0687 - val_loss: 0.0683\n",
      "Epoch 114/200\n",
      "118/118 [==============================] - 0s 3ms/step - loss: 0.0686 - val_loss: 0.0682\n",
      "Epoch 115/200\n",
      "118/118 [==============================] - 0s 3ms/step - loss: 0.0686 - val_loss: 0.0682\n",
      "Epoch 116/200\n",
      "118/118 [==============================] - 0s 3ms/step - loss: 0.0685 - val_loss: 0.0681\n",
      "Epoch 117/200\n",
      "118/118 [==============================] - 0s 3ms/step - loss: 0.0685 - val_loss: 0.0681\n",
      "Epoch 118/200\n",
      "118/118 [==============================] - 0s 3ms/step - loss: 0.0684 - val_loss: 0.0680\n",
      "Epoch 119/200\n",
      "118/118 [==============================] - 0s 3ms/step - loss: 0.0684 - val_loss: 0.0680\n",
      "Epoch 120/200\n",
      "118/118 [==============================] - 0s 3ms/step - loss: 0.0683 - val_loss: 0.0680\n",
      "Epoch 121/200\n",
      "118/118 [==============================] - 0s 3ms/step - loss: 0.0683 - val_loss: 0.0679\n",
      "Epoch 122/200\n",
      "118/118 [==============================] - 0s 3ms/step - loss: 0.0682 - val_loss: 0.0679\n",
      "Epoch 123/200\n",
      "118/118 [==============================] - 0s 3ms/step - loss: 0.0682 - val_loss: 0.0678\n",
      "Epoch 124/200\n",
      "118/118 [==============================] - 0s 3ms/step - loss: 0.0682 - val_loss: 0.0678\n",
      "Epoch 125/200\n",
      "118/118 [==============================] - 0s 3ms/step - loss: 0.0681 - val_loss: 0.0678\n",
      "Epoch 126/200\n",
      "118/118 [==============================] - 0s 3ms/step - loss: 0.0681 - val_loss: 0.0677\n",
      "Epoch 127/200\n",
      "118/118 [==============================] - 0s 3ms/step - loss: 0.0680 - val_loss: 0.0677\n",
      "Epoch 128/200\n",
      "118/118 [==============================] - 0s 3ms/step - loss: 0.0680 - val_loss: 0.0677\n",
      "Epoch 129/200\n",
      "118/118 [==============================] - 0s 3ms/step - loss: 0.0680 - val_loss: 0.0676\n",
      "Epoch 130/200\n",
      "118/118 [==============================] - 0s 3ms/step - loss: 0.0679 - val_loss: 0.0676\n",
      "Epoch 131/200\n",
      "118/118 [==============================] - 0s 3ms/step - loss: 0.0679 - val_loss: 0.0676\n",
      "Epoch 132/200\n",
      "118/118 [==============================] - 0s 3ms/step - loss: 0.0679 - val_loss: 0.0675\n",
      "Epoch 133/200\n",
      "118/118 [==============================] - 0s 3ms/step - loss: 0.0678 - val_loss: 0.0675\n",
      "Epoch 134/200\n",
      "118/118 [==============================] - 0s 3ms/step - loss: 0.0678 - val_loss: 0.0675\n",
      "Epoch 135/200\n",
      "118/118 [==============================] - 0s 3ms/step - loss: 0.0678 - val_loss: 0.0674\n",
      "Epoch 136/200\n",
      "118/118 [==============================] - 0s 3ms/step - loss: 0.0677 - val_loss: 0.0674\n",
      "Epoch 137/200\n",
      "118/118 [==============================] - 0s 3ms/step - loss: 0.0677 - val_loss: 0.0674\n",
      "Epoch 138/200\n",
      "118/118 [==============================] - 0s 3ms/step - loss: 0.0677 - val_loss: 0.0673\n",
      "Epoch 139/200\n",
      "118/118 [==============================] - 0s 3ms/step - loss: 0.0676 - val_loss: 0.0673\n",
      "Epoch 140/200\n",
      "118/118 [==============================] - 0s 3ms/step - loss: 0.0676 - val_loss: 0.0673\n",
      "Epoch 141/200\n",
      "118/118 [==============================] - 0s 3ms/step - loss: 0.0676 - val_loss: 0.0673\n",
      "Epoch 142/200\n",
      "118/118 [==============================] - 0s 3ms/step - loss: 0.0675 - val_loss: 0.0672\n",
      "Epoch 143/200\n",
      "118/118 [==============================] - 0s 3ms/step - loss: 0.0675 - val_loss: 0.0672\n",
      "Epoch 144/200\n",
      "118/118 [==============================] - 0s 3ms/step - loss: 0.0675 - val_loss: 0.0672\n",
      "Epoch 145/200\n",
      "118/118 [==============================] - 0s 3ms/step - loss: 0.0675 - val_loss: 0.0672\n",
      "Epoch 146/200\n",
      "118/118 [==============================] - 0s 3ms/step - loss: 0.0674 - val_loss: 0.0671\n",
      "Epoch 147/200\n",
      "118/118 [==============================] - 0s 3ms/step - loss: 0.0674 - val_loss: 0.0671\n",
      "Epoch 148/200\n",
      "118/118 [==============================] - 0s 3ms/step - loss: 0.0674 - val_loss: 0.0671\n",
      "Epoch 149/200\n",
      "118/118 [==============================] - 0s 3ms/step - loss: 0.0674 - val_loss: 0.0671\n",
      "Epoch 150/200\n",
      "118/118 [==============================] - 0s 3ms/step - loss: 0.0673 - val_loss: 0.0670\n",
      "Epoch 151/200\n",
      "118/118 [==============================] - 0s 3ms/step - loss: 0.0673 - val_loss: 0.0670\n",
      "Epoch 152/200\n",
      "118/118 [==============================] - 0s 3ms/step - loss: 0.0673 - val_loss: 0.0670\n",
      "Epoch 153/200\n",
      "118/118 [==============================] - 0s 3ms/step - loss: 0.0673 - val_loss: 0.0670\n",
      "Epoch 154/200\n",
      "118/118 [==============================] - 0s 3ms/step - loss: 0.0672 - val_loss: 0.0669\n",
      "Epoch 155/200\n",
      "118/118 [==============================] - 0s 3ms/step - loss: 0.0672 - val_loss: 0.0669\n",
      "Epoch 156/200\n",
      "118/118 [==============================] - 0s 3ms/step - loss: 0.0672 - val_loss: 0.0669\n",
      "Epoch 157/200\n",
      "118/118 [==============================] - 0s 3ms/step - loss: 0.0672 - val_loss: 0.0669\n",
      "Epoch 158/200\n",
      "118/118 [==============================] - 0s 3ms/step - loss: 0.0672 - val_loss: 0.0669\n",
      "Epoch 159/200\n",
      "118/118 [==============================] - 0s 3ms/step - loss: 0.0672 - val_loss: 0.0668\n",
      "Epoch 160/200\n",
      "118/118 [==============================] - 0s 3ms/step - loss: 0.0671 - val_loss: 0.0668\n"
     ]
    },
    {
     "name": "stdout",
     "output_type": "stream",
     "text": [
      "Epoch 161/200\n",
      "118/118 [==============================] - 0s 3ms/step - loss: 0.0671 - val_loss: 0.0668\n",
      "Epoch 162/200\n",
      "118/118 [==============================] - 0s 3ms/step - loss: 0.0671 - val_loss: 0.0668\n",
      "Epoch 163/200\n",
      "118/118 [==============================] - 0s 3ms/step - loss: 0.0671 - val_loss: 0.0668\n",
      "Epoch 164/200\n",
      "118/118 [==============================] - 0s 3ms/step - loss: 0.0671 - val_loss: 0.0668\n",
      "Epoch 165/200\n",
      "118/118 [==============================] - 0s 3ms/step - loss: 0.0670 - val_loss: 0.0667\n",
      "Epoch 166/200\n",
      "118/118 [==============================] - 0s 3ms/step - loss: 0.0670 - val_loss: 0.0667\n",
      "Epoch 167/200\n",
      "118/118 [==============================] - 0s 3ms/step - loss: 0.0670 - val_loss: 0.0667\n",
      "Epoch 168/200\n",
      "118/118 [==============================] - 0s 3ms/step - loss: 0.0670 - val_loss: 0.0667\n",
      "Epoch 169/200\n",
      "118/118 [==============================] - 0s 3ms/step - loss: 0.0669 - val_loss: 0.0667\n",
      "Epoch 170/200\n",
      "118/118 [==============================] - 0s 3ms/step - loss: 0.0669 - val_loss: 0.0667\n",
      "Epoch 171/200\n",
      "118/118 [==============================] - 0s 3ms/step - loss: 0.0669 - val_loss: 0.0666\n",
      "Epoch 172/200\n",
      "118/118 [==============================] - 0s 3ms/step - loss: 0.0669 - val_loss: 0.0666\n",
      "Epoch 173/200\n",
      "118/118 [==============================] - 0s 3ms/step - loss: 0.0669 - val_loss: 0.0666\n",
      "Epoch 174/200\n",
      "118/118 [==============================] - 0s 3ms/step - loss: 0.0669 - val_loss: 0.0666\n",
      "Epoch 175/200\n",
      "118/118 [==============================] - 0s 3ms/step - loss: 0.0669 - val_loss: 0.0666\n",
      "Epoch 176/200\n",
      "118/118 [==============================] - 0s 3ms/step - loss: 0.0668 - val_loss: 0.0666\n",
      "Epoch 177/200\n",
      "118/118 [==============================] - 0s 3ms/step - loss: 0.0668 - val_loss: 0.0666\n",
      "Epoch 178/200\n",
      "118/118 [==============================] - 0s 3ms/step - loss: 0.0668 - val_loss: 0.0665\n",
      "Epoch 179/200\n",
      "118/118 [==============================] - 0s 3ms/step - loss: 0.0668 - val_loss: 0.0665\n",
      "Epoch 180/200\n",
      "118/118 [==============================] - 0s 3ms/step - loss: 0.0668 - val_loss: 0.0665\n",
      "Epoch 181/200\n",
      "118/118 [==============================] - 0s 3ms/step - loss: 0.0668 - val_loss: 0.0665\n",
      "Epoch 182/200\n",
      "118/118 [==============================] - 0s 3ms/step - loss: 0.0667 - val_loss: 0.0665\n",
      "Epoch 183/200\n",
      "118/118 [==============================] - 0s 3ms/step - loss: 0.0667 - val_loss: 0.0665\n",
      "Epoch 184/200\n",
      "118/118 [==============================] - 0s 3ms/step - loss: 0.0667 - val_loss: 0.0665\n",
      "Epoch 185/200\n",
      "118/118 [==============================] - 0s 3ms/step - loss: 0.0667 - val_loss: 0.0664\n",
      "Epoch 186/200\n",
      "118/118 [==============================] - 0s 3ms/step - loss: 0.0667 - val_loss: 0.0664\n",
      "Epoch 187/200\n",
      "118/118 [==============================] - 0s 3ms/step - loss: 0.0667 - val_loss: 0.0664\n",
      "Epoch 188/200\n",
      "118/118 [==============================] - 0s 3ms/step - loss: 0.0666 - val_loss: 0.0664\n",
      "Epoch 189/200\n",
      "118/118 [==============================] - 0s 3ms/step - loss: 0.0666 - val_loss: 0.0664\n",
      "Epoch 190/200\n",
      "118/118 [==============================] - 0s 3ms/step - loss: 0.0666 - val_loss: 0.0664\n",
      "Epoch 191/200\n",
      "118/118 [==============================] - 0s 3ms/step - loss: 0.0666 - val_loss: 0.0664\n",
      "Epoch 192/200\n",
      "118/118 [==============================] - 0s 3ms/step - loss: 0.0666 - val_loss: 0.0664\n",
      "Epoch 193/200\n",
      "118/118 [==============================] - 0s 3ms/step - loss: 0.0666 - val_loss: 0.0663\n",
      "Epoch 194/200\n",
      "118/118 [==============================] - 0s 3ms/step - loss: 0.0666 - val_loss: 0.0663\n",
      "Epoch 195/200\n",
      "118/118 [==============================] - 0s 3ms/step - loss: 0.0666 - val_loss: 0.0663\n",
      "Epoch 196/200\n",
      "118/118 [==============================] - 0s 3ms/step - loss: 0.0666 - val_loss: 0.0663\n",
      "Epoch 197/200\n",
      "118/118 [==============================] - 0s 3ms/step - loss: 0.0666 - val_loss: 0.0663\n",
      "Epoch 198/200\n",
      "118/118 [==============================] - 0s 3ms/step - loss: 0.0666 - val_loss: 0.0663\n",
      "Epoch 199/200\n",
      "118/118 [==============================] - 0s 3ms/step - loss: 0.0665 - val_loss: 0.0663\n",
      "Epoch 200/200\n",
      "118/118 [==============================] - 0s 3ms/step - loss: 0.0665 - val_loss: 0.0663\n"
     ]
    },
    {
     "data": {
      "text/plain": [
       "<tensorflow.python.keras.callbacks.History at 0x7f1a5c21fba8>"
      ]
     },
     "execution_count": 143,
     "metadata": {},
     "output_type": "execute_result"
    }
   ],
   "source": [
    "AE.fit(x_train, x_train.reshape(-1, 784), epochs=200, batch_size=512, shuffle=True,\n",
    "                validation_data=(x_test, x_test.reshape(-1, 784)), verbose = 1)"
   ]
  },
  {
   "cell_type": "code",
   "execution_count": 147,
   "metadata": {
    "ExecuteTime": {
     "end_time": "2020-05-11T03:01:35.320458Z",
     "start_time": "2020-05-11T03:01:35.279919Z"
    }
   },
   "outputs": [],
   "source": [
    "img = AE.predict(x_train[3].reshape(-1, 28, 28))\n",
    "img = (img * 255).astype(np.int32)\n",
    "img = img.reshape(28, 28)"
   ]
  },
  {
   "cell_type": "code",
   "execution_count": 148,
   "metadata": {
    "ExecuteTime": {
     "end_time": "2020-05-11T03:01:36.382891Z",
     "start_time": "2020-05-11T03:01:36.296434Z"
    }
   },
   "outputs": [
    {
     "data": {
      "text/plain": [
       "<matplotlib.image.AxesImage at 0x7f1a4c6fd860>"
      ]
     },
     "execution_count": 148,
     "metadata": {},
     "output_type": "execute_result"
    },
    {
     "data": {
      "image/png": "[encoded data removed]",
      "text/plain": [
       "<Figure size 432x288 with 1 Axes>"
      ]
     },
     "metadata": {
      "needs_background": "light"
     },
     "output_type": "display_data"
    }
   ],
   "source": [
    "imshow(Image.fromarray(img))"
   ]
  },
  {
   "cell_type": "code",
   "execution_count": 149,
   "metadata": {
    "ExecuteTime": {
     "end_time": "2020-05-11T03:01:38.948184Z",
     "start_time": "2020-05-11T03:01:38.866218Z"
    }
   },
   "outputs": [
    {
     "data": {
      "text/plain": [
       "<matplotlib.image.AxesImage at 0x7f1a4c6f1518>"
      ]
     },
     "execution_count": 149,
     "metadata": {},
     "output_type": "execute_result"
    },
    {
     "data": {
      "image/png": "[encoded data removed]",
      "text/plain": [
       "<Figure size 432x288 with 1 Axes>"
      ]
     },
     "metadata": {
      "needs_background": "light"
     },
     "output_type": "display_data"
    }
   ],
   "source": [
    "imshow(Image.fromarray(x_train[3] * 255))"
   ]
  },
  {
   "cell_type": "code",
   "execution_count": null,
   "metadata": {},
   "outputs": [],
   "source": []
  }
 ],
 "metadata": {
  "kernelspec": {
   "display_name": "Python 3",
   "language": "python",
   "name": "python3"
  },
  "language_info": {
   "codemirror_mode": {
    "name": "ipython",
    "version": 3
   },
   "file_extension": ".py",
   "mimetype": "text/x-python",
   "name": "python",
   "nbconvert_exporter": "python",
   "pygments_lexer": "ipython3",
   "version": "3.6.9"
  }
 },
 "nbformat": 4,
 "nbformat_minor": 4
}
