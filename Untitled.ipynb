{
 "cells": [
  {
   "cell_type": "code",
   "execution_count": null,
   "metadata": {
    "ExecuteTime": {
     "end_time": "2020-05-15T02:26:18.975345Z",
     "start_time": "2020-05-15T02:26:18.972379Z"
    }
   },
   "outputs": [],
   "source": [
    "from tensorflow.keras.layers.experimental.preprocessing import TextVectorization\n",
    "import tensorflow as tf\n",
    "import numpy as np\n",
    "from IPython import display"
   ]
  },
  {
   "cell_type": "code",
   "execution_count": null,
   "metadata": {
    "ExecuteTime": {
     "end_time": "2020-05-15T01:49:59.048826Z",
     "start_time": "2020-05-15T01:49:59.040582Z"
    }
   },
   "outputs": [],
   "source": [
    "max_features = 5000  # Maximum vocab size.\n",
    "max_len = 40  # Sequence length to pad the outputs to.\n",
    "\n",
    "# Create the layer.\n",
    "vectorize_layer = TextVectorization(\n",
    "                        max_tokens=max_features,\n",
    "                        output_mode='int',\n",
    "                        output_sequence_length=max_len)"
   ]
  },
  {
   "cell_type": "code",
   "execution_count": null,
   "metadata": {
    "ExecuteTime": {
     "end_time": "2020-05-15T01:49:59.905304Z",
     "start_time": "2020-05-15T01:49:59.903064Z"
    }
   },
   "outputs": [],
   "source": [
    "s = 'Rick Bright led the government agency trying to develop a vaccine, but was removed from his post last month.'\\\n",
    "    'He has previously said he was ousted from the job for raising concern over a treatment being touted by President Donald Trump.'"
   ]
  },
  {
   "cell_type": "code",
   "execution_count": null,
   "metadata": {
    "ExecuteTime": {
     "end_time": "2020-05-15T01:50:00.093012Z",
     "start_time": "2020-05-15T01:50:00.085772Z"
    }
   },
   "outputs": [],
   "source": [
    "ds = tf.data.TextLineDataset(s)"
   ]
  },
  {
   "cell_type": "code",
   "execution_count": null,
   "metadata": {
    "ExecuteTime": {
     "end_time": "2020-05-15T02:04:31.342369Z",
     "start_time": "2020-05-15T02:04:31.338014Z"
    }
   },
   "outputs": [],
   "source": [
    "rand = np.random.random(5)\n",
    "rand, (rand / rand.sum())"
   ]
  },
  {
   "cell_type": "code",
   "execution_count": null,
   "metadata": {
    "ExecuteTime": {
     "end_time": "2020-05-15T02:14:30.871959Z",
     "start_time": "2020-05-15T02:14:30.867781Z"
    }
   },
   "outputs": [],
   "source": [
    "np.random.dirichlet(np.ones(4),size=1)"
   ]
  },
  {
   "cell_type": "code",
   "execution_count": null,
   "metadata": {
    "ExecuteTime": {
     "end_time": "2020-05-15T02:27:38.422089Z",
     "start_time": "2020-05-15T02:27:38.417806Z"
    }
   },
   "outputs": [],
   "source": [
    "from IPython import display\n",
    "\n",
    "output = 123\n",
    "display.Markdown('<h2>Output: {}</h2>'.format(output))"
   ]
  },
  {
   "cell_type": "code",
   "execution_count": null,
   "metadata": {},
   "outputs": [],
   "source": []
  }
 ],
 "metadata": {
  "kernelspec": {
   "display_name": "Python 3",
   "language": "python",
   "name": "python3"
  },
  "language_info": {
   "codemirror_mode": {
    "name": "ipython",
    "version": 3
   },
   "file_extension": ".py",
   "mimetype": "text/x-python",
   "name": "python",
   "nbconvert_exporter": "python",
   "pygments_lexer": "ipython3",
   "version": "3.6.9"
  }
 },
 "nbformat": 4,
 "nbformat_minor": 4
}
